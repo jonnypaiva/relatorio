{
 "cells": [
  {
   "cell_type": "code",
   "execution_count": 10,
   "id": "94ae95a8",
   "metadata": {},
   "outputs": [],
   "source": [
    "import pandas as pd\n",
    "import matplotlib.pyplot as plt\n",
    "import seaborn as sns"
   ]
  },
  {
   "cell_type": "code",
   "execution_count": 11,
   "id": "e978a923",
   "metadata": {},
   "outputs": [
    {
     "name": "stdout",
     "output_type": "stream",
     "text": [
      "<class 'pandas.core.frame.DataFrame'>\n",
      "    Data Venda Data Envio  ID Loja  ID Produto  ID Cliente       No. Venda  \\\n",
      "0   2008-05-09 2008-05-29      199         384       18839  200805093CS607   \n",
      "1   2008-05-12 2008-05-17      306         384       19051  200805123CS567   \n",
      "2   2008-05-14 2008-05-20      306         384       19052  200805143CS576   \n",
      "3   2008-05-21 2008-05-27      306         384       19052  200805213CS576   \n",
      "4   2008-06-20 2008-06-27      306         384       19053  200806203CS586   \n",
      "..         ...        ...      ...         ...         ...             ...   \n",
      "899 2008-03-22 2008-04-04      306        1226       19049  200803224CS555   \n",
      "900 2008-10-04 2008-10-15      306        1155       19057  200810044CS636   \n",
      "901 2008-12-11 2008-12-15      306        1155       19060  200812114CS676   \n",
      "902 2008-12-17 2008-12-21      306        1226       19060  200812174CS676   \n",
      "903 2008-12-21 2008-12-25      306        1155       19060  200812214CS676   \n",
      "\n",
      "     Custo Unitário  Preço Unitário  Quantidade  Valor Desconto  Valor Venda  \\\n",
      "0            348.58           758.0           6            0.00      4548.00   \n",
      "1            348.58           758.0           6            0.00      4548.00   \n",
      "2            348.58           758.0           6            0.00      4548.00   \n",
      "3            348.58           758.0           6            0.00      4548.00   \n",
      "4            348.58           758.0           6            0.00      4548.00   \n",
      "..              ...             ...         ...             ...          ...   \n",
      "899          330.99           999.0           6          419.58      5574.42   \n",
      "900          324.69           980.0           6         1176.00      4704.00   \n",
      "901          324.69           980.0           6         1176.00      4704.00   \n",
      "902          330.99           999.0           6         1198.80      4795.20   \n",
      "903          324.69           980.0           6         1176.00      4704.00   \n",
      "\n",
      "                                         Produto       Fabricante  \\\n",
      "0          Adventure Works Laptop15.4W M1548 Red  Adventure Works   \n",
      "1          Adventure Works Laptop15.4W M1548 Red  Adventure Works   \n",
      "2          Adventure Works Laptop15.4W M1548 Red  Adventure Works   \n",
      "3          Adventure Works Laptop15.4W M1548 Red  Adventure Works   \n",
      "4          Adventure Works Laptop15.4W M1548 Red  Adventure Works   \n",
      "..                                           ...              ...   \n",
      "899  Fabrikam Trendsetter 1/3'' 8.5mm X200 Black   Fabrikam, Inc.   \n",
      "900   Fabrikam Trendsetter 2/3'' 17mm X100 Black   Fabrikam, Inc.   \n",
      "901   Fabrikam Trendsetter 2/3'' 17mm X100 Black   Fabrikam, Inc.   \n",
      "902  Fabrikam Trendsetter 1/3'' 8.5mm X200 Black   Fabrikam, Inc.   \n",
      "903   Fabrikam Trendsetter 2/3'' 17mm X100 Black   Fabrikam, Inc.   \n",
      "\n",
      "               Marca   Classe    Cor  \n",
      "0    Adventure Works  Regular    Red  \n",
      "1    Adventure Works  Regular    Red  \n",
      "2    Adventure Works  Regular    Red  \n",
      "3    Adventure Works  Regular    Red  \n",
      "4    Adventure Works  Regular    Red  \n",
      "..               ...      ...    ...  \n",
      "899         Fabrikam  Regular  Black  \n",
      "900         Fabrikam  Regular  Black  \n",
      "901         Fabrikam  Regular  Black  \n",
      "902         Fabrikam  Regular  Black  \n",
      "903         Fabrikam  Regular  Black  \n",
      "\n",
      "[904 rows x 16 columns]\n"
     ]
    }
   ],
   "source": [
    "df = pd.read_excel('AdventureWorks.xlsx')\n",
    "print(type(df))\n",
    "print(df)\n",
    "#Local do arquivo deve estar no mesmo local do projeto, ou então temos que indicar o caminho."
   ]
  },
  {
   "cell_type": "code",
   "execution_count": 12,
   "id": "dfdf791c",
   "metadata": {},
   "outputs": [
    {
     "data": {
      "text/html": [
       "<div>\n",
       "<style scoped>\n",
       "    .dataframe tbody tr th:only-of-type {\n",
       "        vertical-align: middle;\n",
       "    }\n",
       "\n",
       "    .dataframe tbody tr th {\n",
       "        vertical-align: top;\n",
       "    }\n",
       "\n",
       "    .dataframe thead th {\n",
       "        text-align: right;\n",
       "    }\n",
       "</style>\n",
       "<table border=\"1\" class=\"dataframe\">\n",
       "  <thead>\n",
       "    <tr style=\"text-align: right;\">\n",
       "      <th></th>\n",
       "      <th>Data Venda</th>\n",
       "      <th>Data Envio</th>\n",
       "      <th>ID Loja</th>\n",
       "      <th>ID Produto</th>\n",
       "      <th>ID Cliente</th>\n",
       "      <th>No. Venda</th>\n",
       "      <th>Custo Unitário</th>\n",
       "      <th>Preço Unitário</th>\n",
       "      <th>Quantidade</th>\n",
       "      <th>Valor Desconto</th>\n",
       "      <th>Valor Venda</th>\n",
       "      <th>Produto</th>\n",
       "      <th>Fabricante</th>\n",
       "      <th>Marca</th>\n",
       "      <th>Classe</th>\n",
       "      <th>Cor</th>\n",
       "    </tr>\n",
       "  </thead>\n",
       "  <tbody>\n",
       "    <tr>\n",
       "      <th>0</th>\n",
       "      <td>2008-05-09</td>\n",
       "      <td>2008-05-29</td>\n",
       "      <td>199</td>\n",
       "      <td>384</td>\n",
       "      <td>18839</td>\n",
       "      <td>200805093CS607</td>\n",
       "      <td>348.58</td>\n",
       "      <td>758.0</td>\n",
       "      <td>6</td>\n",
       "      <td>0.0</td>\n",
       "      <td>4548.0</td>\n",
       "      <td>Adventure Works Laptop15.4W M1548 Red</td>\n",
       "      <td>Adventure Works</td>\n",
       "      <td>Adventure Works</td>\n",
       "      <td>Regular</td>\n",
       "      <td>Red</td>\n",
       "    </tr>\n",
       "    <tr>\n",
       "      <th>1</th>\n",
       "      <td>2008-05-12</td>\n",
       "      <td>2008-05-17</td>\n",
       "      <td>306</td>\n",
       "      <td>384</td>\n",
       "      <td>19051</td>\n",
       "      <td>200805123CS567</td>\n",
       "      <td>348.58</td>\n",
       "      <td>758.0</td>\n",
       "      <td>6</td>\n",
       "      <td>0.0</td>\n",
       "      <td>4548.0</td>\n",
       "      <td>Adventure Works Laptop15.4W M1548 Red</td>\n",
       "      <td>Adventure Works</td>\n",
       "      <td>Adventure Works</td>\n",
       "      <td>Regular</td>\n",
       "      <td>Red</td>\n",
       "    </tr>\n",
       "    <tr>\n",
       "      <th>2</th>\n",
       "      <td>2008-05-14</td>\n",
       "      <td>2008-05-20</td>\n",
       "      <td>306</td>\n",
       "      <td>384</td>\n",
       "      <td>19052</td>\n",
       "      <td>200805143CS576</td>\n",
       "      <td>348.58</td>\n",
       "      <td>758.0</td>\n",
       "      <td>6</td>\n",
       "      <td>0.0</td>\n",
       "      <td>4548.0</td>\n",
       "      <td>Adventure Works Laptop15.4W M1548 Red</td>\n",
       "      <td>Adventure Works</td>\n",
       "      <td>Adventure Works</td>\n",
       "      <td>Regular</td>\n",
       "      <td>Red</td>\n",
       "    </tr>\n",
       "    <tr>\n",
       "      <th>3</th>\n",
       "      <td>2008-05-21</td>\n",
       "      <td>2008-05-27</td>\n",
       "      <td>306</td>\n",
       "      <td>384</td>\n",
       "      <td>19052</td>\n",
       "      <td>200805213CS576</td>\n",
       "      <td>348.58</td>\n",
       "      <td>758.0</td>\n",
       "      <td>6</td>\n",
       "      <td>0.0</td>\n",
       "      <td>4548.0</td>\n",
       "      <td>Adventure Works Laptop15.4W M1548 Red</td>\n",
       "      <td>Adventure Works</td>\n",
       "      <td>Adventure Works</td>\n",
       "      <td>Regular</td>\n",
       "      <td>Red</td>\n",
       "    </tr>\n",
       "    <tr>\n",
       "      <th>4</th>\n",
       "      <td>2008-06-20</td>\n",
       "      <td>2008-06-27</td>\n",
       "      <td>306</td>\n",
       "      <td>384</td>\n",
       "      <td>19053</td>\n",
       "      <td>200806203CS586</td>\n",
       "      <td>348.58</td>\n",
       "      <td>758.0</td>\n",
       "      <td>6</td>\n",
       "      <td>0.0</td>\n",
       "      <td>4548.0</td>\n",
       "      <td>Adventure Works Laptop15.4W M1548 Red</td>\n",
       "      <td>Adventure Works</td>\n",
       "      <td>Adventure Works</td>\n",
       "      <td>Regular</td>\n",
       "      <td>Red</td>\n",
       "    </tr>\n",
       "  </tbody>\n",
       "</table>\n",
       "</div>"
      ],
      "text/plain": [
       "  Data Venda Data Envio  ID Loja  ID Produto  ID Cliente       No. Venda  \\\n",
       "0 2008-05-09 2008-05-29      199         384       18839  200805093CS607   \n",
       "1 2008-05-12 2008-05-17      306         384       19051  200805123CS567   \n",
       "2 2008-05-14 2008-05-20      306         384       19052  200805143CS576   \n",
       "3 2008-05-21 2008-05-27      306         384       19052  200805213CS576   \n",
       "4 2008-06-20 2008-06-27      306         384       19053  200806203CS586   \n",
       "\n",
       "   Custo Unitário  Preço Unitário  Quantidade  Valor Desconto  Valor Venda  \\\n",
       "0          348.58           758.0           6             0.0       4548.0   \n",
       "1          348.58           758.0           6             0.0       4548.0   \n",
       "2          348.58           758.0           6             0.0       4548.0   \n",
       "3          348.58           758.0           6             0.0       4548.0   \n",
       "4          348.58           758.0           6             0.0       4548.0   \n",
       "\n",
       "                                 Produto       Fabricante            Marca  \\\n",
       "0  Adventure Works Laptop15.4W M1548 Red  Adventure Works  Adventure Works   \n",
       "1  Adventure Works Laptop15.4W M1548 Red  Adventure Works  Adventure Works   \n",
       "2  Adventure Works Laptop15.4W M1548 Red  Adventure Works  Adventure Works   \n",
       "3  Adventure Works Laptop15.4W M1548 Red  Adventure Works  Adventure Works   \n",
       "4  Adventure Works Laptop15.4W M1548 Red  Adventure Works  Adventure Works   \n",
       "\n",
       "    Classe  Cor  \n",
       "0  Regular  Red  \n",
       "1  Regular  Red  \n",
       "2  Regular  Red  \n",
       "3  Regular  Red  \n",
       "4  Regular  Red  "
      ]
     },
     "execution_count": 12,
     "metadata": {},
     "output_type": "execute_result"
    }
   ],
   "source": [
    "#Mostrar o cabeçalho\n",
    "df.head()"
   ]
  },
  {
   "cell_type": "code",
   "execution_count": 13,
   "id": "09095566",
   "metadata": {},
   "outputs": [
    {
     "data": {
      "text/plain": [
       "Index(['Data Venda', 'Data Envio', 'ID Loja', 'ID Produto', 'ID Cliente',\n",
       "       'No. Venda', 'Custo Unitário', 'Preço Unitário', 'Quantidade',\n",
       "       'Valor Desconto', 'Valor Venda', 'Produto', 'Fabricante', 'Marca',\n",
       "       'Classe', 'Cor'],\n",
       "      dtype='object')"
      ]
     },
     "execution_count": 13,
     "metadata": {},
     "output_type": "execute_result"
    }
   ],
   "source": [
    "df.columns\n",
    "#Mostra quais colunas estão no dataframe"
   ]
  },
  {
   "cell_type": "code",
   "execution_count": 14,
   "id": "9440afb7",
   "metadata": {},
   "outputs": [
    {
     "name": "stdout",
     "output_type": "stream",
     "text": [
      "<class 'pandas.core.frame.DataFrame'>\n",
      "RangeIndex: 904 entries, 0 to 903\n",
      "Data columns (total 16 columns):\n",
      " #   Column          Non-Null Count  Dtype         \n",
      "---  ------          --------------  -----         \n",
      " 0   Data Venda      904 non-null    datetime64[ns]\n",
      " 1   Data Envio      904 non-null    datetime64[ns]\n",
      " 2   ID Loja         904 non-null    int64         \n",
      " 3   ID Produto      904 non-null    int64         \n",
      " 4   ID Cliente      904 non-null    int64         \n",
      " 5   No. Venda       904 non-null    object        \n",
      " 6   Custo Unitário  904 non-null    float64       \n",
      " 7   Preço Unitário  904 non-null    float64       \n",
      " 8   Quantidade      904 non-null    int64         \n",
      " 9   Valor Desconto  904 non-null    float64       \n",
      " 10  Valor Venda     904 non-null    float64       \n",
      " 11  Produto         904 non-null    object        \n",
      " 12  Fabricante      904 non-null    object        \n",
      " 13  Marca           904 non-null    object        \n",
      " 14  Classe          904 non-null    object        \n",
      " 15  Cor             904 non-null    object        \n",
      "dtypes: datetime64[ns](2), float64(4), int64(4), object(6)\n",
      "memory usage: 113.1+ KB\n"
     ]
    },
    {
     "data": {
      "text/plain": [
       "(904, 16)"
      ]
     },
     "execution_count": 14,
     "metadata": {},
     "output_type": "execute_result"
    }
   ],
   "source": [
    "df.info()\n",
    "#Veriifcar quais os tipos de informação de cada coluna.\n",
    "df.shape\n",
    "#Verifica o tamanho do arquivo. (linhas, colunas)(x,y)"
   ]
  },
  {
   "cell_type": "code",
   "execution_count": 15,
   "id": "90b2dadd",
   "metadata": {},
   "outputs": [
    {
     "data": {
      "text/html": [
       "<div>\n",
       "<style scoped>\n",
       "    .dataframe tbody tr th:only-of-type {\n",
       "        vertical-align: middle;\n",
       "    }\n",
       "\n",
       "    .dataframe tbody tr th {\n",
       "        vertical-align: top;\n",
       "    }\n",
       "\n",
       "    .dataframe thead th {\n",
       "        text-align: right;\n",
       "    }\n",
       "</style>\n",
       "<table border=\"1\" class=\"dataframe\">\n",
       "  <thead>\n",
       "    <tr style=\"text-align: right;\">\n",
       "      <th></th>\n",
       "      <th>ID Loja</th>\n",
       "      <th>ID Produto</th>\n",
       "      <th>ID Cliente</th>\n",
       "      <th>Custo Unitário</th>\n",
       "      <th>Preço Unitário</th>\n",
       "      <th>Quantidade</th>\n",
       "      <th>Valor Desconto</th>\n",
       "      <th>Valor Venda</th>\n",
       "    </tr>\n",
       "  </thead>\n",
       "  <tbody>\n",
       "    <tr>\n",
       "      <th>count</th>\n",
       "      <td>904.000000</td>\n",
       "      <td>904.000000</td>\n",
       "      <td>904.000000</td>\n",
       "      <td>904.000000</td>\n",
       "      <td>904.000000</td>\n",
       "      <td>904.000000</td>\n",
       "      <td>904.000000</td>\n",
       "      <td>904.000000</td>\n",
       "    </tr>\n",
       "    <tr>\n",
       "      <th>mean</th>\n",
       "      <td>270.015487</td>\n",
       "      <td>1225.238938</td>\n",
       "      <td>19029.092920</td>\n",
       "      <td>272.006150</td>\n",
       "      <td>742.527965</td>\n",
       "      <td>62.950221</td>\n",
       "      <td>689.123294</td>\n",
       "      <td>6620.139538</td>\n",
       "    </tr>\n",
       "    <tr>\n",
       "      <th>std</th>\n",
       "      <td>50.955280</td>\n",
       "      <td>706.698742</td>\n",
       "      <td>96.427655</td>\n",
       "      <td>129.765051</td>\n",
       "      <td>368.589889</td>\n",
       "      <td>148.945964</td>\n",
       "      <td>822.363117</td>\n",
       "      <td>4319.407257</td>\n",
       "    </tr>\n",
       "    <tr>\n",
       "      <th>min</th>\n",
       "      <td>199.000000</td>\n",
       "      <td>366.000000</td>\n",
       "      <td>18815.000000</td>\n",
       "      <td>5.090000</td>\n",
       "      <td>9.990000</td>\n",
       "      <td>2.000000</td>\n",
       "      <td>0.000000</td>\n",
       "      <td>159.840000</td>\n",
       "    </tr>\n",
       "    <tr>\n",
       "      <th>25%</th>\n",
       "      <td>199.000000</td>\n",
       "      <td>384.000000</td>\n",
       "      <td>18964.750000</td>\n",
       "      <td>324.690000</td>\n",
       "      <td>758.000000</td>\n",
       "      <td>6.000000</td>\n",
       "      <td>0.000000</td>\n",
       "      <td>3920.000000</td>\n",
       "    </tr>\n",
       "    <tr>\n",
       "      <th>50%</th>\n",
       "      <td>306.000000</td>\n",
       "      <td>1202.000000</td>\n",
       "      <td>19060.000000</td>\n",
       "      <td>330.660000</td>\n",
       "      <td>980.000000</td>\n",
       "      <td>9.000000</td>\n",
       "      <td>461.166000</td>\n",
       "      <td>5798.700000</td>\n",
       "    </tr>\n",
       "    <tr>\n",
       "      <th>75%</th>\n",
       "      <td>307.000000</td>\n",
       "      <td>1226.000000</td>\n",
       "      <td>19107.000000</td>\n",
       "      <td>348.580000</td>\n",
       "      <td>998.000000</td>\n",
       "      <td>17.000000</td>\n",
       "      <td>1005.075000</td>\n",
       "      <td>7986.000000</td>\n",
       "    </tr>\n",
       "    <tr>\n",
       "      <th>max</th>\n",
       "      <td>307.000000</td>\n",
       "      <td>2497.000000</td>\n",
       "      <td>19145.000000</td>\n",
       "      <td>348.580000</td>\n",
       "      <td>999.000000</td>\n",
       "      <td>1560.000000</td>\n",
       "      <td>6272.000000</td>\n",
       "      <td>29400.000000</td>\n",
       "    </tr>\n",
       "  </tbody>\n",
       "</table>\n",
       "</div>"
      ],
      "text/plain": [
       "          ID Loja   ID Produto    ID Cliente  Custo Unitário  Preço Unitário  \\\n",
       "count  904.000000   904.000000    904.000000      904.000000      904.000000   \n",
       "mean   270.015487  1225.238938  19029.092920      272.006150      742.527965   \n",
       "std     50.955280   706.698742     96.427655      129.765051      368.589889   \n",
       "min    199.000000   366.000000  18815.000000        5.090000        9.990000   \n",
       "25%    199.000000   384.000000  18964.750000      324.690000      758.000000   \n",
       "50%    306.000000  1202.000000  19060.000000      330.660000      980.000000   \n",
       "75%    307.000000  1226.000000  19107.000000      348.580000      998.000000   \n",
       "max    307.000000  2497.000000  19145.000000      348.580000      999.000000   \n",
       "\n",
       "        Quantidade  Valor Desconto   Valor Venda  \n",
       "count   904.000000      904.000000    904.000000  \n",
       "mean     62.950221      689.123294   6620.139538  \n",
       "std     148.945964      822.363117   4319.407257  \n",
       "min       2.000000        0.000000    159.840000  \n",
       "25%       6.000000        0.000000   3920.000000  \n",
       "50%       9.000000      461.166000   5798.700000  \n",
       "75%      17.000000     1005.075000   7986.000000  \n",
       "max    1560.000000     6272.000000  29400.000000  "
      ]
     },
     "execution_count": 15,
     "metadata": {},
     "output_type": "execute_result"
    }
   ],
   "source": [
    "df.describe()\n",
    "#Revela os dados estatisticos"
   ]
  },
  {
   "cell_type": "code",
   "execution_count": 16,
   "id": "575fa818",
   "metadata": {},
   "outputs": [
    {
     "data": {
      "text/html": [
       "<div>\n",
       "<style scoped>\n",
       "    .dataframe tbody tr th:only-of-type {\n",
       "        vertical-align: middle;\n",
       "    }\n",
       "\n",
       "    .dataframe tbody tr th {\n",
       "        vertical-align: top;\n",
       "    }\n",
       "\n",
       "    .dataframe thead th {\n",
       "        text-align: right;\n",
       "    }\n",
       "</style>\n",
       "<table border=\"1\" class=\"dataframe\">\n",
       "  <thead>\n",
       "    <tr style=\"text-align: right;\">\n",
       "      <th></th>\n",
       "      <th>Data Venda</th>\n",
       "      <th>Data Envio</th>\n",
       "      <th>ID Loja</th>\n",
       "      <th>ID Produto</th>\n",
       "      <th>ID Cliente</th>\n",
       "      <th>No. Venda</th>\n",
       "      <th>Custo Unitário</th>\n",
       "      <th>Preço Unitário</th>\n",
       "      <th>Quantidade</th>\n",
       "      <th>Valor Desconto</th>\n",
       "      <th>Valor Venda</th>\n",
       "      <th>Produto</th>\n",
       "      <th>Fabricante</th>\n",
       "      <th>Marca</th>\n",
       "      <th>Classe</th>\n",
       "      <th>Cor</th>\n",
       "    </tr>\n",
       "  </thead>\n",
       "  <tbody>\n",
       "    <tr>\n",
       "      <th>0</th>\n",
       "      <td>False</td>\n",
       "      <td>False</td>\n",
       "      <td>False</td>\n",
       "      <td>False</td>\n",
       "      <td>False</td>\n",
       "      <td>False</td>\n",
       "      <td>False</td>\n",
       "      <td>False</td>\n",
       "      <td>False</td>\n",
       "      <td>False</td>\n",
       "      <td>False</td>\n",
       "      <td>False</td>\n",
       "      <td>False</td>\n",
       "      <td>False</td>\n",
       "      <td>False</td>\n",
       "      <td>False</td>\n",
       "    </tr>\n",
       "    <tr>\n",
       "      <th>1</th>\n",
       "      <td>False</td>\n",
       "      <td>False</td>\n",
       "      <td>False</td>\n",
       "      <td>False</td>\n",
       "      <td>False</td>\n",
       "      <td>False</td>\n",
       "      <td>False</td>\n",
       "      <td>False</td>\n",
       "      <td>False</td>\n",
       "      <td>False</td>\n",
       "      <td>False</td>\n",
       "      <td>False</td>\n",
       "      <td>False</td>\n",
       "      <td>False</td>\n",
       "      <td>False</td>\n",
       "      <td>False</td>\n",
       "    </tr>\n",
       "    <tr>\n",
       "      <th>2</th>\n",
       "      <td>False</td>\n",
       "      <td>False</td>\n",
       "      <td>False</td>\n",
       "      <td>False</td>\n",
       "      <td>False</td>\n",
       "      <td>False</td>\n",
       "      <td>False</td>\n",
       "      <td>False</td>\n",
       "      <td>False</td>\n",
       "      <td>False</td>\n",
       "      <td>False</td>\n",
       "      <td>False</td>\n",
       "      <td>False</td>\n",
       "      <td>False</td>\n",
       "      <td>False</td>\n",
       "      <td>False</td>\n",
       "    </tr>\n",
       "    <tr>\n",
       "      <th>3</th>\n",
       "      <td>False</td>\n",
       "      <td>False</td>\n",
       "      <td>False</td>\n",
       "      <td>False</td>\n",
       "      <td>False</td>\n",
       "      <td>False</td>\n",
       "      <td>False</td>\n",
       "      <td>False</td>\n",
       "      <td>False</td>\n",
       "      <td>False</td>\n",
       "      <td>False</td>\n",
       "      <td>False</td>\n",
       "      <td>False</td>\n",
       "      <td>False</td>\n",
       "      <td>False</td>\n",
       "      <td>False</td>\n",
       "    </tr>\n",
       "    <tr>\n",
       "      <th>4</th>\n",
       "      <td>False</td>\n",
       "      <td>False</td>\n",
       "      <td>False</td>\n",
       "      <td>False</td>\n",
       "      <td>False</td>\n",
       "      <td>False</td>\n",
       "      <td>False</td>\n",
       "      <td>False</td>\n",
       "      <td>False</td>\n",
       "      <td>False</td>\n",
       "      <td>False</td>\n",
       "      <td>False</td>\n",
       "      <td>False</td>\n",
       "      <td>False</td>\n",
       "      <td>False</td>\n",
       "      <td>False</td>\n",
       "    </tr>\n",
       "    <tr>\n",
       "      <th>...</th>\n",
       "      <td>...</td>\n",
       "      <td>...</td>\n",
       "      <td>...</td>\n",
       "      <td>...</td>\n",
       "      <td>...</td>\n",
       "      <td>...</td>\n",
       "      <td>...</td>\n",
       "      <td>...</td>\n",
       "      <td>...</td>\n",
       "      <td>...</td>\n",
       "      <td>...</td>\n",
       "      <td>...</td>\n",
       "      <td>...</td>\n",
       "      <td>...</td>\n",
       "      <td>...</td>\n",
       "      <td>...</td>\n",
       "    </tr>\n",
       "    <tr>\n",
       "      <th>899</th>\n",
       "      <td>False</td>\n",
       "      <td>False</td>\n",
       "      <td>False</td>\n",
       "      <td>False</td>\n",
       "      <td>False</td>\n",
       "      <td>False</td>\n",
       "      <td>False</td>\n",
       "      <td>False</td>\n",
       "      <td>False</td>\n",
       "      <td>False</td>\n",
       "      <td>False</td>\n",
       "      <td>False</td>\n",
       "      <td>False</td>\n",
       "      <td>False</td>\n",
       "      <td>False</td>\n",
       "      <td>False</td>\n",
       "    </tr>\n",
       "    <tr>\n",
       "      <th>900</th>\n",
       "      <td>False</td>\n",
       "      <td>False</td>\n",
       "      <td>False</td>\n",
       "      <td>False</td>\n",
       "      <td>False</td>\n",
       "      <td>False</td>\n",
       "      <td>False</td>\n",
       "      <td>False</td>\n",
       "      <td>False</td>\n",
       "      <td>False</td>\n",
       "      <td>False</td>\n",
       "      <td>False</td>\n",
       "      <td>False</td>\n",
       "      <td>False</td>\n",
       "      <td>False</td>\n",
       "      <td>False</td>\n",
       "    </tr>\n",
       "    <tr>\n",
       "      <th>901</th>\n",
       "      <td>False</td>\n",
       "      <td>False</td>\n",
       "      <td>False</td>\n",
       "      <td>False</td>\n",
       "      <td>False</td>\n",
       "      <td>False</td>\n",
       "      <td>False</td>\n",
       "      <td>False</td>\n",
       "      <td>False</td>\n",
       "      <td>False</td>\n",
       "      <td>False</td>\n",
       "      <td>False</td>\n",
       "      <td>False</td>\n",
       "      <td>False</td>\n",
       "      <td>False</td>\n",
       "      <td>False</td>\n",
       "    </tr>\n",
       "    <tr>\n",
       "      <th>902</th>\n",
       "      <td>False</td>\n",
       "      <td>False</td>\n",
       "      <td>False</td>\n",
       "      <td>False</td>\n",
       "      <td>False</td>\n",
       "      <td>False</td>\n",
       "      <td>False</td>\n",
       "      <td>False</td>\n",
       "      <td>False</td>\n",
       "      <td>False</td>\n",
       "      <td>False</td>\n",
       "      <td>False</td>\n",
       "      <td>False</td>\n",
       "      <td>False</td>\n",
       "      <td>False</td>\n",
       "      <td>False</td>\n",
       "    </tr>\n",
       "    <tr>\n",
       "      <th>903</th>\n",
       "      <td>False</td>\n",
       "      <td>False</td>\n",
       "      <td>False</td>\n",
       "      <td>False</td>\n",
       "      <td>False</td>\n",
       "      <td>False</td>\n",
       "      <td>False</td>\n",
       "      <td>False</td>\n",
       "      <td>False</td>\n",
       "      <td>False</td>\n",
       "      <td>False</td>\n",
       "      <td>False</td>\n",
       "      <td>False</td>\n",
       "      <td>False</td>\n",
       "      <td>False</td>\n",
       "      <td>False</td>\n",
       "    </tr>\n",
       "  </tbody>\n",
       "</table>\n",
       "<p>904 rows × 16 columns</p>\n",
       "</div>"
      ],
      "text/plain": [
       "     Data Venda  Data Envio  ID Loja  ID Produto  ID Cliente  No. Venda  \\\n",
       "0         False       False    False       False       False      False   \n",
       "1         False       False    False       False       False      False   \n",
       "2         False       False    False       False       False      False   \n",
       "3         False       False    False       False       False      False   \n",
       "4         False       False    False       False       False      False   \n",
       "..          ...         ...      ...         ...         ...        ...   \n",
       "899       False       False    False       False       False      False   \n",
       "900       False       False    False       False       False      False   \n",
       "901       False       False    False       False       False      False   \n",
       "902       False       False    False       False       False      False   \n",
       "903       False       False    False       False       False      False   \n",
       "\n",
       "     Custo Unitário  Preço Unitário  Quantidade  Valor Desconto  Valor Venda  \\\n",
       "0             False           False       False           False        False   \n",
       "1             False           False       False           False        False   \n",
       "2             False           False       False           False        False   \n",
       "3             False           False       False           False        False   \n",
       "4             False           False       False           False        False   \n",
       "..              ...             ...         ...             ...          ...   \n",
       "899           False           False       False           False        False   \n",
       "900           False           False       False           False        False   \n",
       "901           False           False       False           False        False   \n",
       "902           False           False       False           False        False   \n",
       "903           False           False       False           False        False   \n",
       "\n",
       "     Produto  Fabricante  Marca  Classe    Cor  \n",
       "0      False       False  False   False  False  \n",
       "1      False       False  False   False  False  \n",
       "2      False       False  False   False  False  \n",
       "3      False       False  False   False  False  \n",
       "4      False       False  False   False  False  \n",
       "..       ...         ...    ...     ...    ...  \n",
       "899    False       False  False   False  False  \n",
       "900    False       False  False   False  False  \n",
       "901    False       False  False   False  False  \n",
       "902    False       False  False   False  False  \n",
       "903    False       False  False   False  False  \n",
       "\n",
       "[904 rows x 16 columns]"
      ]
     },
     "execution_count": 16,
     "metadata": {},
     "output_type": "execute_result"
    }
   ],
   "source": [
    "df.isna()\n",
    "#Verifica se os dados possuem null (vazias)"
   ]
  },
  {
   "cell_type": "code",
   "execution_count": 17,
   "id": "8566488a",
   "metadata": {},
   "outputs": [
    {
     "data": {
      "text/plain": [
       "Data Venda        0\n",
       "Data Envio        0\n",
       "ID Loja           0\n",
       "ID Produto        0\n",
       "ID Cliente        0\n",
       "No. Venda         0\n",
       "Custo Unitário    0\n",
       "Preço Unitário    0\n",
       "Quantidade        0\n",
       "Valor Desconto    0\n",
       "Valor Venda       0\n",
       "Produto           0\n",
       "Fabricante        0\n",
       "Marca             0\n",
       "Classe            0\n",
       "Cor               0\n",
       "dtype: int64"
      ]
     },
     "execution_count": 17,
     "metadata": {},
     "output_type": "execute_result"
    }
   ],
   "source": [
    "df.isna().sum()\n",
    "#Verificar os nulls e soma "
   ]
  },
  {
   "cell_type": "code",
   "execution_count": 18,
   "id": "0034df5a",
   "metadata": {},
   "outputs": [
    {
     "data": {
      "text/plain": [
       "Data Venda        904\n",
       "Data Envio        904\n",
       "ID Loja           904\n",
       "ID Produto        904\n",
       "ID Cliente        904\n",
       "No. Venda         904\n",
       "Custo Unitário    904\n",
       "Preço Unitário    904\n",
       "Quantidade        904\n",
       "Valor Desconto    904\n",
       "Valor Venda       904\n",
       "Produto           904\n",
       "Fabricante        904\n",
       "Marca             904\n",
       "Classe            904\n",
       "Cor               904\n",
       "dtype: int64"
      ]
     },
     "execution_count": 18,
     "metadata": {},
     "output_type": "execute_result"
    }
   ],
   "source": [
    "df.count()\n",
    "#Realiza contagem pra ver a quantidade dos dados"
   ]
  },
  {
   "cell_type": "code",
   "execution_count": 19,
   "id": "ab4d9daf",
   "metadata": {},
   "outputs": [
    {
     "name": "stdout",
     "output_type": "stream",
     "text": [
      "0     2008-05-09\n",
      "1     2008-05-12\n",
      "2     2008-05-14\n",
      "3     2008-05-21\n",
      "4     2008-06-20\n",
      "         ...    \n",
      "899   2008-03-22\n",
      "900   2008-10-04\n",
      "901   2008-12-11\n",
      "902   2008-12-17\n",
      "903   2008-12-21\n",
      "Name: Data Venda, Length: 904, dtype: datetime64[ns]\n",
      "0     2008-05-29\n",
      "1     2008-05-17\n",
      "2     2008-05-20\n",
      "3     2008-05-27\n",
      "4     2008-06-27\n",
      "         ...    \n",
      "899   2008-04-04\n",
      "900   2008-10-15\n",
      "901   2008-12-15\n",
      "902   2008-12-21\n",
      "903   2008-12-25\n",
      "Name: Data Envio, Length: 904, dtype: datetime64[ns]\n"
     ]
    }
   ],
   "source": [
    "print(df['Data Venda'])\n",
    "print(df['Data Envio'])"
   ]
  },
  {
   "cell_type": "code",
   "execution_count": 20,
   "id": "5fea393d",
   "metadata": {},
   "outputs": [
    {
     "name": "stdout",
     "output_type": "stream",
     "text": [
      "6 days 00:00:00\n"
     ]
    }
   ],
   "source": [
    "tempo = df['Data Envio'][2] - df['Data Venda'][2]\n",
    "print(tempo)\n",
    "#Calculou o tempo de postagem entre a venda e envio, no caso da celula 2."
   ]
  },
  {
   "cell_type": "code",
   "execution_count": 21,
   "id": "b1102157",
   "metadata": {},
   "outputs": [],
   "source": [
    "df['Tempo de Postagem'] = df['Data Envio'] - df['Data Venda']\n",
    "#Criação de nova coluna dr['nomecoluna'] que calcula o tempo de postagem"
   ]
  },
  {
   "cell_type": "code",
   "execution_count": 22,
   "id": "03bbde9b",
   "metadata": {},
   "outputs": [
    {
     "data": {
      "text/plain": [
       "Index(['Data Venda', 'Data Envio', 'ID Loja', 'ID Produto', 'ID Cliente',\n",
       "       'No. Venda', 'Custo Unitário', 'Preço Unitário', 'Quantidade',\n",
       "       'Valor Desconto', 'Valor Venda', 'Produto', 'Fabricante', 'Marca',\n",
       "       'Classe', 'Cor', 'Tempo de Postagem'],\n",
       "      dtype='object')"
      ]
     },
     "execution_count": 22,
     "metadata": {},
     "output_type": "execute_result"
    }
   ],
   "source": [
    "df.columns"
   ]
  },
  {
   "cell_type": "code",
   "execution_count": 23,
   "id": "85707cd7",
   "metadata": {},
   "outputs": [
    {
     "data": {
      "text/html": [
       "<div>\n",
       "<style scoped>\n",
       "    .dataframe tbody tr th:only-of-type {\n",
       "        vertical-align: middle;\n",
       "    }\n",
       "\n",
       "    .dataframe tbody tr th {\n",
       "        vertical-align: top;\n",
       "    }\n",
       "\n",
       "    .dataframe thead th {\n",
       "        text-align: right;\n",
       "    }\n",
       "</style>\n",
       "<table border=\"1\" class=\"dataframe\">\n",
       "  <thead>\n",
       "    <tr style=\"text-align: right;\">\n",
       "      <th></th>\n",
       "      <th>Data Venda</th>\n",
       "      <th>Data Envio</th>\n",
       "      <th>ID Loja</th>\n",
       "      <th>ID Produto</th>\n",
       "      <th>ID Cliente</th>\n",
       "      <th>No. Venda</th>\n",
       "      <th>Custo Unitário</th>\n",
       "      <th>Preço Unitário</th>\n",
       "      <th>Quantidade</th>\n",
       "      <th>Valor Desconto</th>\n",
       "      <th>Valor Venda</th>\n",
       "      <th>Produto</th>\n",
       "      <th>Fabricante</th>\n",
       "      <th>Marca</th>\n",
       "      <th>Classe</th>\n",
       "      <th>Cor</th>\n",
       "      <th>Tempo de Postagem</th>\n",
       "    </tr>\n",
       "  </thead>\n",
       "  <tbody>\n",
       "    <tr>\n",
       "      <th>0</th>\n",
       "      <td>2008-05-09</td>\n",
       "      <td>2008-05-29</td>\n",
       "      <td>199</td>\n",
       "      <td>384</td>\n",
       "      <td>18839</td>\n",
       "      <td>200805093CS607</td>\n",
       "      <td>348.58</td>\n",
       "      <td>758.0</td>\n",
       "      <td>6</td>\n",
       "      <td>0.0</td>\n",
       "      <td>4548.0</td>\n",
       "      <td>Adventure Works Laptop15.4W M1548 Red</td>\n",
       "      <td>Adventure Works</td>\n",
       "      <td>Adventure Works</td>\n",
       "      <td>Regular</td>\n",
       "      <td>Red</td>\n",
       "      <td>20 days</td>\n",
       "    </tr>\n",
       "    <tr>\n",
       "      <th>1</th>\n",
       "      <td>2008-05-12</td>\n",
       "      <td>2008-05-17</td>\n",
       "      <td>306</td>\n",
       "      <td>384</td>\n",
       "      <td>19051</td>\n",
       "      <td>200805123CS567</td>\n",
       "      <td>348.58</td>\n",
       "      <td>758.0</td>\n",
       "      <td>6</td>\n",
       "      <td>0.0</td>\n",
       "      <td>4548.0</td>\n",
       "      <td>Adventure Works Laptop15.4W M1548 Red</td>\n",
       "      <td>Adventure Works</td>\n",
       "      <td>Adventure Works</td>\n",
       "      <td>Regular</td>\n",
       "      <td>Red</td>\n",
       "      <td>5 days</td>\n",
       "    </tr>\n",
       "    <tr>\n",
       "      <th>2</th>\n",
       "      <td>2008-05-14</td>\n",
       "      <td>2008-05-20</td>\n",
       "      <td>306</td>\n",
       "      <td>384</td>\n",
       "      <td>19052</td>\n",
       "      <td>200805143CS576</td>\n",
       "      <td>348.58</td>\n",
       "      <td>758.0</td>\n",
       "      <td>6</td>\n",
       "      <td>0.0</td>\n",
       "      <td>4548.0</td>\n",
       "      <td>Adventure Works Laptop15.4W M1548 Red</td>\n",
       "      <td>Adventure Works</td>\n",
       "      <td>Adventure Works</td>\n",
       "      <td>Regular</td>\n",
       "      <td>Red</td>\n",
       "      <td>6 days</td>\n",
       "    </tr>\n",
       "    <tr>\n",
       "      <th>3</th>\n",
       "      <td>2008-05-21</td>\n",
       "      <td>2008-05-27</td>\n",
       "      <td>306</td>\n",
       "      <td>384</td>\n",
       "      <td>19052</td>\n",
       "      <td>200805213CS576</td>\n",
       "      <td>348.58</td>\n",
       "      <td>758.0</td>\n",
       "      <td>6</td>\n",
       "      <td>0.0</td>\n",
       "      <td>4548.0</td>\n",
       "      <td>Adventure Works Laptop15.4W M1548 Red</td>\n",
       "      <td>Adventure Works</td>\n",
       "      <td>Adventure Works</td>\n",
       "      <td>Regular</td>\n",
       "      <td>Red</td>\n",
       "      <td>6 days</td>\n",
       "    </tr>\n",
       "    <tr>\n",
       "      <th>4</th>\n",
       "      <td>2008-06-20</td>\n",
       "      <td>2008-06-27</td>\n",
       "      <td>306</td>\n",
       "      <td>384</td>\n",
       "      <td>19053</td>\n",
       "      <td>200806203CS586</td>\n",
       "      <td>348.58</td>\n",
       "      <td>758.0</td>\n",
       "      <td>6</td>\n",
       "      <td>0.0</td>\n",
       "      <td>4548.0</td>\n",
       "      <td>Adventure Works Laptop15.4W M1548 Red</td>\n",
       "      <td>Adventure Works</td>\n",
       "      <td>Adventure Works</td>\n",
       "      <td>Regular</td>\n",
       "      <td>Red</td>\n",
       "      <td>7 days</td>\n",
       "    </tr>\n",
       "  </tbody>\n",
       "</table>\n",
       "</div>"
      ],
      "text/plain": [
       "  Data Venda Data Envio  ID Loja  ID Produto  ID Cliente       No. Venda  \\\n",
       "0 2008-05-09 2008-05-29      199         384       18839  200805093CS607   \n",
       "1 2008-05-12 2008-05-17      306         384       19051  200805123CS567   \n",
       "2 2008-05-14 2008-05-20      306         384       19052  200805143CS576   \n",
       "3 2008-05-21 2008-05-27      306         384       19052  200805213CS576   \n",
       "4 2008-06-20 2008-06-27      306         384       19053  200806203CS586   \n",
       "\n",
       "   Custo Unitário  Preço Unitário  Quantidade  Valor Desconto  Valor Venda  \\\n",
       "0          348.58           758.0           6             0.0       4548.0   \n",
       "1          348.58           758.0           6             0.0       4548.0   \n",
       "2          348.58           758.0           6             0.0       4548.0   \n",
       "3          348.58           758.0           6             0.0       4548.0   \n",
       "4          348.58           758.0           6             0.0       4548.0   \n",
       "\n",
       "                                 Produto       Fabricante            Marca  \\\n",
       "0  Adventure Works Laptop15.4W M1548 Red  Adventure Works  Adventure Works   \n",
       "1  Adventure Works Laptop15.4W M1548 Red  Adventure Works  Adventure Works   \n",
       "2  Adventure Works Laptop15.4W M1548 Red  Adventure Works  Adventure Works   \n",
       "3  Adventure Works Laptop15.4W M1548 Red  Adventure Works  Adventure Works   \n",
       "4  Adventure Works Laptop15.4W M1548 Red  Adventure Works  Adventure Works   \n",
       "\n",
       "    Classe  Cor Tempo de Postagem  \n",
       "0  Regular  Red           20 days  \n",
       "1  Regular  Red            5 days  \n",
       "2  Regular  Red            6 days  \n",
       "3  Regular  Red            6 days  \n",
       "4  Regular  Red            7 days  "
      ]
     },
     "execution_count": 23,
     "metadata": {},
     "output_type": "execute_result"
    }
   ],
   "source": [
    "df.head()"
   ]
  },
  {
   "cell_type": "code",
   "execution_count": 24,
   "id": "06107e4f",
   "metadata": {},
   "outputs": [
    {
     "data": {
      "text/plain": [
       "0     20 days\n",
       "1      5 days\n",
       "2      6 days\n",
       "3      6 days\n",
       "4      7 days\n",
       "        ...  \n",
       "899   13 days\n",
       "900   11 days\n",
       "901    4 days\n",
       "902    4 days\n",
       "903    4 days\n",
       "Name: Tempo de Postagem, Length: 904, dtype: timedelta64[ns]"
      ]
     },
     "execution_count": 24,
     "metadata": {},
     "output_type": "execute_result"
    }
   ],
   "source": [
    "df['Tempo de Postagem']"
   ]
  },
  {
   "cell_type": "code",
   "execution_count": 25,
   "id": "6ff9bb15",
   "metadata": {},
   "outputs": [
    {
     "name": "stdout",
     "output_type": "stream",
     "text": [
      "20 days 00:00:00\n"
     ]
    }
   ],
   "source": [
    "max_dias_envio = df['Tempo de Postagem'].max()\n",
    "print(max_dias_envio)\n",
    "#Calcula o prazo máximo do dados incluino na nova coluna"
   ]
  },
  {
   "cell_type": "code",
   "execution_count": 26,
   "id": "7e48493d",
   "metadata": {},
   "outputs": [
    {
     "name": "stdout",
     "output_type": "stream",
     "text": [
      "4 days 00:00:00\n"
     ]
    }
   ],
   "source": [
    "min_dias_envio = df['Tempo de Postagem'].min()\n",
    "print(min_dias_envio)\n",
    "#Calcula o prazo minimo de entrega incluido na nova coluna"
   ]
  },
  {
   "cell_type": "code",
   "execution_count": 27,
   "id": "735a0682",
   "metadata": {},
   "outputs": [
    {
     "name": "stdout",
     "output_type": "stream",
     "text": [
      "8 days 13:02:07.433628318\n"
     ]
    }
   ],
   "source": [
    "med_dias_envio = df['Tempo de Postagem'].mean()\n",
    "print(med_dias_envio)\n",
    "#Calcula o prazo médio de entrega incluido na nova coluna"
   ]
  },
  {
   "cell_type": "code",
   "execution_count": 28,
   "id": "29f5314c",
   "metadata": {},
   "outputs": [
    {
     "data": {
      "text/html": [
       "<div>\n",
       "<style scoped>\n",
       "    .dataframe tbody tr th:only-of-type {\n",
       "        vertical-align: middle;\n",
       "    }\n",
       "\n",
       "    .dataframe tbody tr th {\n",
       "        vertical-align: top;\n",
       "    }\n",
       "\n",
       "    .dataframe thead th {\n",
       "        text-align: right;\n",
       "    }\n",
       "</style>\n",
       "<table border=\"1\" class=\"dataframe\">\n",
       "  <thead>\n",
       "    <tr style=\"text-align: right;\">\n",
       "      <th></th>\n",
       "      <th>ID Loja</th>\n",
       "      <th>ID Produto</th>\n",
       "      <th>ID Cliente</th>\n",
       "      <th>Custo Unitário</th>\n",
       "      <th>Preço Unitário</th>\n",
       "      <th>Quantidade</th>\n",
       "      <th>Valor Desconto</th>\n",
       "      <th>Valor Venda</th>\n",
       "      <th>Tempo de Postagem</th>\n",
       "    </tr>\n",
       "  </thead>\n",
       "  <tbody>\n",
       "    <tr>\n",
       "      <th>count</th>\n",
       "      <td>904.000000</td>\n",
       "      <td>904.000000</td>\n",
       "      <td>904.000000</td>\n",
       "      <td>904.000000</td>\n",
       "      <td>904.000000</td>\n",
       "      <td>904.000000</td>\n",
       "      <td>904.000000</td>\n",
       "      <td>904.000000</td>\n",
       "      <td>904</td>\n",
       "    </tr>\n",
       "    <tr>\n",
       "      <th>mean</th>\n",
       "      <td>270.015487</td>\n",
       "      <td>1225.238938</td>\n",
       "      <td>19029.092920</td>\n",
       "      <td>272.006150</td>\n",
       "      <td>742.527965</td>\n",
       "      <td>62.950221</td>\n",
       "      <td>689.123294</td>\n",
       "      <td>6620.139538</td>\n",
       "      <td>8 days 13:02:07.433628318</td>\n",
       "    </tr>\n",
       "    <tr>\n",
       "      <th>std</th>\n",
       "      <td>50.955280</td>\n",
       "      <td>706.698742</td>\n",
       "      <td>96.427655</td>\n",
       "      <td>129.765051</td>\n",
       "      <td>368.589889</td>\n",
       "      <td>148.945964</td>\n",
       "      <td>822.363117</td>\n",
       "      <td>4319.407257</td>\n",
       "      <td>3 days 01:21:57.877052211</td>\n",
       "    </tr>\n",
       "    <tr>\n",
       "      <th>min</th>\n",
       "      <td>199.000000</td>\n",
       "      <td>366.000000</td>\n",
       "      <td>18815.000000</td>\n",
       "      <td>5.090000</td>\n",
       "      <td>9.990000</td>\n",
       "      <td>2.000000</td>\n",
       "      <td>0.000000</td>\n",
       "      <td>159.840000</td>\n",
       "      <td>4 days 00:00:00</td>\n",
       "    </tr>\n",
       "    <tr>\n",
       "      <th>25%</th>\n",
       "      <td>199.000000</td>\n",
       "      <td>384.000000</td>\n",
       "      <td>18964.750000</td>\n",
       "      <td>324.690000</td>\n",
       "      <td>758.000000</td>\n",
       "      <td>6.000000</td>\n",
       "      <td>0.000000</td>\n",
       "      <td>3920.000000</td>\n",
       "      <td>6 days 00:00:00</td>\n",
       "    </tr>\n",
       "    <tr>\n",
       "      <th>50%</th>\n",
       "      <td>306.000000</td>\n",
       "      <td>1202.000000</td>\n",
       "      <td>19060.000000</td>\n",
       "      <td>330.660000</td>\n",
       "      <td>980.000000</td>\n",
       "      <td>9.000000</td>\n",
       "      <td>461.166000</td>\n",
       "      <td>5798.700000</td>\n",
       "      <td>9 days 00:00:00</td>\n",
       "    </tr>\n",
       "    <tr>\n",
       "      <th>75%</th>\n",
       "      <td>307.000000</td>\n",
       "      <td>1226.000000</td>\n",
       "      <td>19107.000000</td>\n",
       "      <td>348.580000</td>\n",
       "      <td>998.000000</td>\n",
       "      <td>17.000000</td>\n",
       "      <td>1005.075000</td>\n",
       "      <td>7986.000000</td>\n",
       "      <td>11 days 00:00:00</td>\n",
       "    </tr>\n",
       "    <tr>\n",
       "      <th>max</th>\n",
       "      <td>307.000000</td>\n",
       "      <td>2497.000000</td>\n",
       "      <td>19145.000000</td>\n",
       "      <td>348.580000</td>\n",
       "      <td>999.000000</td>\n",
       "      <td>1560.000000</td>\n",
       "      <td>6272.000000</td>\n",
       "      <td>29400.000000</td>\n",
       "      <td>20 days 00:00:00</td>\n",
       "    </tr>\n",
       "  </tbody>\n",
       "</table>\n",
       "</div>"
      ],
      "text/plain": [
       "          ID Loja   ID Produto    ID Cliente  Custo Unitário  Preço Unitário  \\\n",
       "count  904.000000   904.000000    904.000000      904.000000      904.000000   \n",
       "mean   270.015487  1225.238938  19029.092920      272.006150      742.527965   \n",
       "std     50.955280   706.698742     96.427655      129.765051      368.589889   \n",
       "min    199.000000   366.000000  18815.000000        5.090000        9.990000   \n",
       "25%    199.000000   384.000000  18964.750000      324.690000      758.000000   \n",
       "50%    306.000000  1202.000000  19060.000000      330.660000      980.000000   \n",
       "75%    307.000000  1226.000000  19107.000000      348.580000      998.000000   \n",
       "max    307.000000  2497.000000  19145.000000      348.580000      999.000000   \n",
       "\n",
       "        Quantidade  Valor Desconto   Valor Venda          Tempo de Postagem  \n",
       "count   904.000000      904.000000    904.000000                        904  \n",
       "mean     62.950221      689.123294   6620.139538  8 days 13:02:07.433628318  \n",
       "std     148.945964      822.363117   4319.407257  3 days 01:21:57.877052211  \n",
       "min       2.000000        0.000000    159.840000            4 days 00:00:00  \n",
       "25%       6.000000        0.000000   3920.000000            6 days 00:00:00  \n",
       "50%       9.000000      461.166000   5798.700000            9 days 00:00:00  \n",
       "75%      17.000000     1005.075000   7986.000000           11 days 00:00:00  \n",
       "max    1560.000000     6272.000000  29400.000000           20 days 00:00:00  "
      ]
     },
     "execution_count": 28,
     "metadata": {},
     "output_type": "execute_result"
    }
   ],
   "source": [
    "df.describe()"
   ]
  },
  {
   "cell_type": "code",
   "execution_count": 29,
   "id": "6a4d49db",
   "metadata": {},
   "outputs": [
    {
     "data": {
      "text/plain": [
       "0      409.42\n",
       "1      409.42\n",
       "2      409.42\n",
       "3      409.42\n",
       "4      409.42\n",
       "        ...  \n",
       "899    668.01\n",
       "900    655.31\n",
       "901    655.31\n",
       "902    668.01\n",
       "903    655.31\n",
       "Name: Lucro Und, Length: 904, dtype: float64"
      ]
     },
     "execution_count": 29,
     "metadata": {},
     "output_type": "execute_result"
    }
   ],
   "source": [
    "df['Lucro Und'] = df['Preço Unitário'] - df['Custo Unitário']\n",
    "df['Lucro Und']\n",
    "#Criando o lucro unitátio de cada produto"
   ]
  },
  {
   "cell_type": "code",
   "execution_count": 30,
   "id": "1efe43f3",
   "metadata": {},
   "outputs": [],
   "source": [
    "df['Custo Total'] = df['Custo Unitário'] * df['Quantidade']\n",
    "df['Lucro Venda'] = df['Valor Venda'] - df['Custo Total']"
   ]
  },
  {
   "cell_type": "code",
   "execution_count": 31,
   "id": "5ae0839d",
   "metadata": {},
   "outputs": [
    {
     "data": {
      "text/plain": [
       "3497823.0926"
      ]
     },
     "execution_count": 31,
     "metadata": {},
     "output_type": "execute_result"
    }
   ],
   "source": [
    "df['Lucro Venda'].sum()"
   ]
  },
  {
   "cell_type": "code",
   "execution_count": 32,
   "id": "18ae8dcb",
   "metadata": {},
   "outputs": [],
   "source": [
    "df['% Desconto'] = (1 - (df['Valor Venda'] / (df['Quantidade'] * df['Preço Unitário'])))*100"
   ]
  },
  {
   "cell_type": "code",
   "execution_count": 33,
   "id": "391ad84f",
   "metadata": {},
   "outputs": [
    {
     "data": {
      "text/plain": [
       "0       0.0\n",
       "1       0.0\n",
       "2       0.0\n",
       "3       0.0\n",
       "4       0.0\n",
       "       ... \n",
       "899     7.0\n",
       "900    20.0\n",
       "901    20.0\n",
       "902    20.0\n",
       "903    20.0\n",
       "Name: % Desconto, Length: 904, dtype: float64"
      ]
     },
     "execution_count": 33,
     "metadata": {},
     "output_type": "execute_result"
    }
   ],
   "source": [
    "df['% Desconto']"
   ]
  },
  {
   "cell_type": "code",
   "execution_count": 34,
   "id": "ce5c6faf",
   "metadata": {},
   "outputs": [
    {
     "name": "stdout",
     "output_type": "stream",
     "text": [
      "20.000000000000007\n",
      "0.0\n"
     ]
    }
   ],
   "source": [
    "max_desc = df['% Desconto'].max()\n",
    "min_desc = df['% Desconto'].min()\n",
    "print(max_desc)\n",
    "print(min_desc)"
   ]
  },
  {
   "cell_type": "code",
   "execution_count": 35,
   "id": "f0bb9d4a",
   "metadata": {},
   "outputs": [
    {
     "data": {
      "text/plain": [
       "4.999999999999993"
      ]
     },
     "execution_count": 35,
     "metadata": {},
     "output_type": "execute_result"
    }
   ],
   "source": [
    "df['% Desconto'].loc[df['% Desconto'] > 0].min()"
   ]
  },
  {
   "cell_type": "code",
   "execution_count": 36,
   "id": "20386393",
   "metadata": {},
   "outputs": [
    {
     "data": {
      "text/plain": [
       "Fabrikam, Inc.     494\n",
       "Adventure Works    238\n",
       "Contoso, Ltd       172\n",
       "Name: Fabricante, dtype: int64"
      ]
     },
     "execution_count": 36,
     "metadata": {},
     "output_type": "execute_result"
    }
   ],
   "source": [
    "df['Fabricante'].value_counts()"
   ]
  },
  {
   "cell_type": "code",
   "execution_count": 37,
   "id": "1b2b8b7e",
   "metadata": {},
   "outputs": [
    {
     "data": {
      "text/plain": [
       "Fabrikam           494\n",
       "Adventure Works    238\n",
       "Contoso            172\n",
       "Name: Marca, dtype: int64"
      ]
     },
     "execution_count": 37,
     "metadata": {},
     "output_type": "execute_result"
    }
   ],
   "source": [
    "df['Marca'].value_counts()"
   ]
  },
  {
   "cell_type": "code",
   "execution_count": 38,
   "id": "068d1c3b",
   "metadata": {},
   "outputs": [
    {
     "data": {
      "text/plain": [
       "Regular    732\n",
       "Economy    172\n",
       "Name: Classe, dtype: int64"
      ]
     },
     "execution_count": 38,
     "metadata": {},
     "output_type": "execute_result"
    }
   ],
   "source": [
    "df['Classe'].value_counts()"
   ]
  },
  {
   "cell_type": "code",
   "execution_count": 39,
   "id": "4d9dc2c6",
   "metadata": {},
   "outputs": [
    {
     "data": {
      "text/plain": [
       "Black     315\n",
       "Grey      212\n",
       "White     175\n",
       "Red       115\n",
       "Silver     87\n",
       "Name: Cor, dtype: int64"
      ]
     },
     "execution_count": 39,
     "metadata": {},
     "output_type": "execute_result"
    }
   ],
   "source": [
    "df['Cor'].value_counts()"
   ]
  },
  {
   "cell_type": "code",
   "execution_count": 40,
   "id": "d69c79d6",
   "metadata": {},
   "outputs": [
    {
     "data": {
      "text/plain": [
       "Produto\n",
       "Adventure Works Laptop15.4W M1548 Black             1089\n",
       "Adventure Works Laptop15.4W M1548 Red               1047\n",
       "Fabrikam Trendsetter 1/3'' 8.5mm X200 Black          884\n",
       "Fabrikam Trendsetter 1/3'' 8.5mm X200 Grey           845\n",
       "Fabrikam Trendsetter 1/3'' 8.5mm X200 White          789\n",
       "Fabrikam Trendsetter 2/3'' 17mm X100 Black           926\n",
       "Fabrikam Trendsetter 2/3'' 17mm X100 Grey           1087\n",
       "Headphone Adapter for Contoso Phone E130 Silver    25232\n",
       "Headphone Adapter for Contoso Phone E130 White     25008\n",
       "Name: Quantidade, dtype: int64"
      ]
     },
     "execution_count": 40,
     "metadata": {},
     "output_type": "execute_result"
    }
   ],
   "source": [
    "df.groupby('Produto')['Quantidade'].sum()\n",
    "#Group realiza o agrupamento da quantidade dos produtos vendidos."
   ]
  },
  {
   "cell_type": "code",
   "execution_count": 41,
   "id": "8001313b",
   "metadata": {},
   "outputs": [
    {
     "data": {
      "text/plain": [
       "Adventure Works Laptop15.4W M1548 Black            123\n",
       "Fabrikam Trendsetter 2/3'' 17mm X100 Grey          118\n",
       "Adventure Works Laptop15.4W M1548 Red              115\n",
       "Fabrikam Trendsetter 2/3'' 17mm X100 Black         103\n",
       "Fabrikam Trendsetter 1/3'' 8.5mm X200 Grey          94\n",
       "Fabrikam Trendsetter 1/3'' 8.5mm X200 White         90\n",
       "Fabrikam Trendsetter 1/3'' 8.5mm X200 Black         89\n",
       "Headphone Adapter for Contoso Phone E130 Silver     87\n",
       "Headphone Adapter for Contoso Phone E130 White      85\n",
       "Name: Produto, dtype: int64"
      ]
     },
     "execution_count": 41,
     "metadata": {},
     "output_type": "execute_result"
    }
   ],
   "source": [
    "df['Produto'].value_counts()\n",
    "#Counts é a quantidade que se repete na planilha, não a soma"
   ]
  },
  {
   "cell_type": "code",
   "execution_count": 42,
   "id": "592ada3b",
   "metadata": {},
   "outputs": [
    {
     "data": {
      "text/plain": [
       "Produto\n",
       "Headphone Adapter for Contoso Phone E130 Silver    25232\n",
       "Headphone Adapter for Contoso Phone E130 White     25008\n",
       "Adventure Works Laptop15.4W M1548 Black             1089\n",
       "Fabrikam Trendsetter 2/3'' 17mm X100 Grey           1087\n",
       "Adventure Works Laptop15.4W M1548 Red               1047\n",
       "Fabrikam Trendsetter 2/3'' 17mm X100 Black           926\n",
       "Fabrikam Trendsetter 1/3'' 8.5mm X200 Black          884\n",
       "Fabrikam Trendsetter 1/3'' 8.5mm X200 Grey           845\n",
       "Fabrikam Trendsetter 1/3'' 8.5mm X200 White          789\n",
       "Name: Quantidade, dtype: int64"
      ]
     },
     "execution_count": 42,
     "metadata": {},
     "output_type": "execute_result"
    }
   ],
   "source": [
    "df.groupby('Produto')['Quantidade'].sum().sort_values(ascending=False)"
   ]
  },
  {
   "cell_type": "code",
   "execution_count": 43,
   "id": "63c1a2ed",
   "metadata": {},
   "outputs": [
    {
     "data": {
      "text/plain": [
       "Produto\n",
       "Fabrikam Trendsetter 2/3'' 17mm X100 Grey          608098.9700\n",
       "Fabrikam Trendsetter 2/3'' 17mm X100 Black         520733.8600\n",
       "Fabrikam Trendsetter 1/3'' 8.5mm X200 Black        507214.2300\n",
       "Fabrikam Trendsetter 1/3'' 8.5mm X200 Grey         501926.5000\n",
       "Fabrikam Trendsetter 1/3'' 8.5mm X200 White        453138.3400\n",
       "Adventure Works Laptop15.4W M1548 Black            367185.5600\n",
       "Adventure Works Laptop15.4W M1548 Red              344850.6800\n",
       "Headphone Adapter for Contoso Phone E130 Silver     98160.5018\n",
       "Headphone Adapter for Contoso Phone E130 White      96514.4508\n",
       "Name: Lucro Venda, dtype: float64"
      ]
     },
     "execution_count": 43,
     "metadata": {},
     "output_type": "execute_result"
    }
   ],
   "source": [
    "df.groupby('Produto')['Lucro Venda'].sum().sort_values(ascending=False)"
   ]
  },
  {
   "cell_type": "code",
   "execution_count": 111,
   "id": "927f0295",
   "metadata": {},
   "outputs": [
    {
     "ename": "TypeError",
     "evalue": "'Series' object is not callable",
     "output_type": "error",
     "traceback": [
      "\u001b[1;31m---------------------------------------------------------------------------\u001b[0m",
      "\u001b[1;31mTypeError\u001b[0m                                 Traceback (most recent call last)",
      "\u001b[1;32m~\\AppData\\Local\\Temp\\ipykernel_2192\\2350208028.py\u001b[0m in \u001b[0;36m<module>\u001b[1;34m\u001b[0m\n\u001b[0;32m      1\u001b[0m \u001b[0midloja\u001b[0m \u001b[1;33m=\u001b[0m \u001b[0mdf\u001b[0m\u001b[1;33m[\u001b[0m\u001b[1;34m'ID Loja'\u001b[0m\u001b[1;33m]\u001b[0m\u001b[1;33m.\u001b[0m\u001b[0mhead\u001b[0m\u001b[1;33m(\u001b[0m\u001b[1;33m)\u001b[0m\u001b[1;33m\u001b[0m\u001b[1;33m\u001b[0m\u001b[0m\n\u001b[1;32m----> 2\u001b[1;33m \u001b[0mprint\u001b[0m\u001b[1;33m(\u001b[0m\u001b[0mresultx\u001b[0m\u001b[1;33m)\u001b[0m\u001b[1;33m\u001b[0m\u001b[1;33m\u001b[0m\u001b[0m\n\u001b[0m",
      "\u001b[1;31mTypeError\u001b[0m: 'Series' object is not callable"
     ]
    }
   ],
   "source": [
    "idloja = df['ID Loja'].head()\n",
    "print(resultx)"
   ]
  },
  {
   "cell_type": "code",
   "execution_count": 112,
   "id": "70ac44af",
   "metadata": {},
   "outputs": [
    {
     "data": {
      "image/png": "[encoded data removed]",
      "text/plain": [
       "<Figure size 640x480 with 1 Axes>"
      ]
     },
     "metadata": {},
     "output_type": "display_data"
    }
   ],
   "source": [
    "plt.xticks (df['ID Loja'].value_counts())\n",
    "plt.plot (df['ID Loja'])\n",
    "plt.show()"
   ]
  },
  {
   "cell_type": "code",
   "execution_count": 110,
   "id": "01fe08d1",
   "metadata": {},
   "outputs": [
    {
     "ename": "TypeError",
     "evalue": "bar() missing 1 required positional argument: 'height'",
     "output_type": "error",
     "traceback": [
      "\u001b[1;31m---------------------------------------------------------------------------\u001b[0m",
      "\u001b[1;31mTypeError\u001b[0m                                 Traceback (most recent call last)",
      "\u001b[1;32m~\\AppData\\Local\\Temp\\ipykernel_2192\\3151046270.py\u001b[0m in \u001b[0;36m<module>\u001b[1;34m\u001b[0m\n\u001b[0;32m      1\u001b[0m \u001b[0mfig\u001b[0m \u001b[1;33m=\u001b[0m \u001b[0mplt\u001b[0m\u001b[1;33m.\u001b[0m\u001b[0mfigure\u001b[0m\u001b[1;33m(\u001b[0m\u001b[0mfigsize\u001b[0m \u001b[1;33m=\u001b[0m \u001b[1;33m(\u001b[0m\u001b[1;36m5\u001b[0m\u001b[1;33m,\u001b[0m \u001b[1;36m5\u001b[0m\u001b[1;33m)\u001b[0m\u001b[1;33m)\u001b[0m\u001b[1;33m\u001b[0m\u001b[1;33m\u001b[0m\u001b[0m\n\u001b[1;32m----> 2\u001b[1;33m \u001b[0mplt\u001b[0m\u001b[1;33m.\u001b[0m\u001b[0mbar\u001b[0m\u001b[1;33m(\u001b[0m\u001b[0mresultx\u001b[0m\u001b[1;33m,\u001b[0m \u001b[0mcolor\u001b[0m \u001b[1;33m=\u001b[0m\u001b[1;34m'r'\u001b[0m\u001b[1;33m,\u001b[0m \u001b[0mwidth\u001b[0m \u001b[1;33m=\u001b[0m \u001b[1;36m0.4\u001b[0m\u001b[1;33m)\u001b[0m\u001b[1;33m\u001b[0m\u001b[1;33m\u001b[0m\u001b[0m\n\u001b[0m",
      "\u001b[1;31mTypeError\u001b[0m: bar() missing 1 required positional argument: 'height'"
     ]
    },
    {
     "data": {
      "text/plain": [
       "<Figure size 500x500 with 0 Axes>"
      ]
     },
     "metadata": {},
     "output_type": "display_data"
    }
   ],
   "source": [
    "fig = plt.figure(figsize = (5, 5))\n",
    "plt.bar(resultx, color ='r', width = 0.4)"
   ]
  },
  {
   "cell_type": "code",
   "execution_count": 45,
   "id": "322763b5",
   "metadata": {},
   "outputs": [
    {
     "data": {
      "text/plain": [
       "ID Loja\n",
       "199    1.294719e+06\n",
       "307    1.186611e+06\n",
       "306    1.016493e+06\n",
       "Name: Lucro Venda, dtype: float64"
      ]
     },
     "execution_count": 45,
     "metadata": {},
     "output_type": "execute_result"
    }
   ],
   "source": [
    "df.groupby('ID Loja')['Lucro Venda'].sum().sort_values(ascending=False)"
   ]
  },
  {
   "cell_type": "code",
   "execution_count": 46,
   "id": "bdb4eeb9",
   "metadata": {},
   "outputs": [
    {
     "data": {
      "text/plain": [
       "ID Loja\n",
       "199    1.294719e+06\n",
       "307    1.186611e+06\n",
       "306    1.016493e+06\n",
       "Name: Lucro Venda, dtype: float64"
      ]
     },
     "execution_count": 46,
     "metadata": {},
     "output_type": "execute_result"
    }
   ],
   "source": [
    "df.groupby('ID Loja')['Lucro Venda'].sum().sort_values(ascending=False)"
   ]
  },
  {
   "cell_type": "code",
   "execution_count": 47,
   "id": "08b3abc3",
   "metadata": {},
   "outputs": [
    {
     "name": "stdout",
     "output_type": "stream",
     "text": [
      "[199 306 307]\n"
     ]
    }
   ],
   "source": [
    "lojas = df['ID Loja'].unique()\n",
    "print(lojas)"
   ]
  },
  {
   "cell_type": "code",
   "execution_count": 48,
   "id": "35edaf4a",
   "metadata": {},
   "outputs": [
    {
     "data": {
      "text/plain": [
       "3"
      ]
     },
     "execution_count": 48,
     "metadata": {},
     "output_type": "execute_result"
    }
   ],
   "source": [
    "len(lojas)"
   ]
  },
  {
   "cell_type": "code",
   "execution_count": 49,
   "id": "a9ad6dee",
   "metadata": {},
   "outputs": [
    {
     "data": {
      "text/plain": [
       "ID Cliente\n",
       "19052    162680.4000\n",
       "19062    148507.4964\n",
       "19106    131556.0000\n",
       "19094    131448.8000\n",
       "19053    124362.0000\n",
       "            ...     \n",
       "18907      3600.5000\n",
       "18975      2589.4080\n",
       "19010      2493.5040\n",
       "18888      2493.5040\n",
       "18898      2493.5040\n",
       "Name: Valor Venda, Length: 168, dtype: float64"
      ]
     },
     "execution_count": 49,
     "metadata": {},
     "output_type": "execute_result"
    }
   ],
   "source": [
    "df.groupby('ID Cliente')['Valor Venda'].sum().sort_values(ascending=False)"
   ]
  },
  {
   "cell_type": "code",
   "execution_count": 50,
   "id": "f51f379d",
   "metadata": {},
   "outputs": [
    {
     "data": {
      "text/plain": [
       "Timestamp('2008-01-02 00:00:00')"
      ]
     },
     "execution_count": 50,
     "metadata": {},
     "output_type": "execute_result"
    }
   ],
   "source": [
    "df['Data Venda'].min()"
   ]
  },
  {
   "cell_type": "code",
   "execution_count": 51,
   "id": "6aa83c5b",
   "metadata": {},
   "outputs": [
    {
     "name": "stdout",
     "output_type": "stream",
     "text": [
      "<class 'pandas._libs.tslibs.timestamps.Timestamp'>\n"
     ]
    }
   ],
   "source": [
    "ultima_venda = df['Data Venda'].max()\n",
    "print(type(ultima_venda))"
   ]
  },
  {
   "cell_type": "code",
   "execution_count": 52,
   "id": "449c2d7d",
   "metadata": {},
   "outputs": [
    {
     "name": "stdout",
     "output_type": "stream",
     "text": [
      "<class 'datetime.datetime'>\n"
     ]
    }
   ],
   "source": [
    "utima_venda_trans = ultima_venda.to_pydatetime()\n",
    "print(type(utima_venda_trans))"
   ]
  },
  {
   "cell_type": "code",
   "execution_count": 53,
   "id": "bd39dcaa",
   "metadata": {},
   "outputs": [
    {
     "name": "stdout",
     "output_type": "stream",
     "text": [
      "['Produto', 'Preço Unitário', 'Valor Venda', 'Lucro Venda']\n"
     ]
    }
   ],
   "source": [
    "informacoes = ['Produto', 'Preço Unitário', 'Valor Venda', 'Lucro Venda']\n",
    "print(informacoes)"
   ]
  },
  {
   "cell_type": "code",
   "execution_count": 54,
   "id": "5db5902b",
   "metadata": {},
   "outputs": [
    {
     "data": {
      "text/html": [
       "<div>\n",
       "<style scoped>\n",
       "    .dataframe tbody tr th:only-of-type {\n",
       "        vertical-align: middle;\n",
       "    }\n",
       "\n",
       "    .dataframe tbody tr th {\n",
       "        vertical-align: top;\n",
       "    }\n",
       "\n",
       "    .dataframe thead th {\n",
       "        text-align: right;\n",
       "    }\n",
       "</style>\n",
       "<table border=\"1\" class=\"dataframe\">\n",
       "  <thead>\n",
       "    <tr style=\"text-align: right;\">\n",
       "      <th></th>\n",
       "      <th>Produto</th>\n",
       "      <th>Preço Unitário</th>\n",
       "      <th>Valor Venda</th>\n",
       "      <th>Lucro Venda</th>\n",
       "    </tr>\n",
       "  </thead>\n",
       "  <tbody>\n",
       "    <tr>\n",
       "      <th>0</th>\n",
       "      <td>Adventure Works Laptop15.4W M1548 Red</td>\n",
       "      <td>758.0</td>\n",
       "      <td>4548.00</td>\n",
       "      <td>2456.52</td>\n",
       "    </tr>\n",
       "    <tr>\n",
       "      <th>1</th>\n",
       "      <td>Adventure Works Laptop15.4W M1548 Red</td>\n",
       "      <td>758.0</td>\n",
       "      <td>4548.00</td>\n",
       "      <td>2456.52</td>\n",
       "    </tr>\n",
       "    <tr>\n",
       "      <th>2</th>\n",
       "      <td>Adventure Works Laptop15.4W M1548 Red</td>\n",
       "      <td>758.0</td>\n",
       "      <td>4548.00</td>\n",
       "      <td>2456.52</td>\n",
       "    </tr>\n",
       "    <tr>\n",
       "      <th>3</th>\n",
       "      <td>Adventure Works Laptop15.4W M1548 Red</td>\n",
       "      <td>758.0</td>\n",
       "      <td>4548.00</td>\n",
       "      <td>2456.52</td>\n",
       "    </tr>\n",
       "    <tr>\n",
       "      <th>4</th>\n",
       "      <td>Adventure Works Laptop15.4W M1548 Red</td>\n",
       "      <td>758.0</td>\n",
       "      <td>4548.00</td>\n",
       "      <td>2456.52</td>\n",
       "    </tr>\n",
       "    <tr>\n",
       "      <th>...</th>\n",
       "      <td>...</td>\n",
       "      <td>...</td>\n",
       "      <td>...</td>\n",
       "      <td>...</td>\n",
       "    </tr>\n",
       "    <tr>\n",
       "      <th>899</th>\n",
       "      <td>Fabrikam Trendsetter 1/3'' 8.5mm X200 Black</td>\n",
       "      <td>999.0</td>\n",
       "      <td>5574.42</td>\n",
       "      <td>3588.48</td>\n",
       "    </tr>\n",
       "    <tr>\n",
       "      <th>900</th>\n",
       "      <td>Fabrikam Trendsetter 2/3'' 17mm X100 Black</td>\n",
       "      <td>980.0</td>\n",
       "      <td>4704.00</td>\n",
       "      <td>2755.86</td>\n",
       "    </tr>\n",
       "    <tr>\n",
       "      <th>901</th>\n",
       "      <td>Fabrikam Trendsetter 2/3'' 17mm X100 Black</td>\n",
       "      <td>980.0</td>\n",
       "      <td>4704.00</td>\n",
       "      <td>2755.86</td>\n",
       "    </tr>\n",
       "    <tr>\n",
       "      <th>902</th>\n",
       "      <td>Fabrikam Trendsetter 1/3'' 8.5mm X200 Black</td>\n",
       "      <td>999.0</td>\n",
       "      <td>4795.20</td>\n",
       "      <td>2809.26</td>\n",
       "    </tr>\n",
       "    <tr>\n",
       "      <th>903</th>\n",
       "      <td>Fabrikam Trendsetter 2/3'' 17mm X100 Black</td>\n",
       "      <td>980.0</td>\n",
       "      <td>4704.00</td>\n",
       "      <td>2755.86</td>\n",
       "    </tr>\n",
       "  </tbody>\n",
       "</table>\n",
       "<p>904 rows × 4 columns</p>\n",
       "</div>"
      ],
      "text/plain": [
       "                                         Produto  Preço Unitário  Valor Venda  \\\n",
       "0          Adventure Works Laptop15.4W M1548 Red           758.0      4548.00   \n",
       "1          Adventure Works Laptop15.4W M1548 Red           758.0      4548.00   \n",
       "2          Adventure Works Laptop15.4W M1548 Red           758.0      4548.00   \n",
       "3          Adventure Works Laptop15.4W M1548 Red           758.0      4548.00   \n",
       "4          Adventure Works Laptop15.4W M1548 Red           758.0      4548.00   \n",
       "..                                           ...             ...          ...   \n",
       "899  Fabrikam Trendsetter 1/3'' 8.5mm X200 Black           999.0      5574.42   \n",
       "900   Fabrikam Trendsetter 2/3'' 17mm X100 Black           980.0      4704.00   \n",
       "901   Fabrikam Trendsetter 2/3'' 17mm X100 Black           980.0      4704.00   \n",
       "902  Fabrikam Trendsetter 1/3'' 8.5mm X200 Black           999.0      4795.20   \n",
       "903   Fabrikam Trendsetter 2/3'' 17mm X100 Black           980.0      4704.00   \n",
       "\n",
       "     Lucro Venda  \n",
       "0        2456.52  \n",
       "1        2456.52  \n",
       "2        2456.52  \n",
       "3        2456.52  \n",
       "4        2456.52  \n",
       "..           ...  \n",
       "899      3588.48  \n",
       "900      2755.86  \n",
       "901      2755.86  \n",
       "902      2809.26  \n",
       "903      2755.86  \n",
       "\n",
       "[904 rows x 4 columns]"
      ]
     },
     "execution_count": 54,
     "metadata": {},
     "output_type": "execute_result"
    }
   ],
   "source": [
    "df[informacoes]"
   ]
  },
  {
   "cell_type": "code",
   "execution_count": 55,
   "id": "537f990f",
   "metadata": {},
   "outputs": [
    {
     "data": {
      "text/html": [
       "<div>\n",
       "<style scoped>\n",
       "    .dataframe tbody tr th:only-of-type {\n",
       "        vertical-align: middle;\n",
       "    }\n",
       "\n",
       "    .dataframe tbody tr th {\n",
       "        vertical-align: top;\n",
       "    }\n",
       "\n",
       "    .dataframe thead th {\n",
       "        text-align: right;\n",
       "    }\n",
       "</style>\n",
       "<table border=\"1\" class=\"dataframe\">\n",
       "  <thead>\n",
       "    <tr style=\"text-align: right;\">\n",
       "      <th></th>\n",
       "      <th>Preço Unitário</th>\n",
       "      <th>Valor Venda</th>\n",
       "      <th>Lucro Venda</th>\n",
       "    </tr>\n",
       "    <tr>\n",
       "      <th>Produto</th>\n",
       "      <th></th>\n",
       "      <th></th>\n",
       "      <th></th>\n",
       "    </tr>\n",
       "  </thead>\n",
       "  <tbody>\n",
       "    <tr>\n",
       "      <th>Adventure Works Laptop15.4W M1548 Black</th>\n",
       "      <td>93234.00</td>\n",
       "      <td>746789.1800</td>\n",
       "      <td>367185.5600</td>\n",
       "    </tr>\n",
       "    <tr>\n",
       "      <th>Adventure Works Laptop15.4W M1548 Red</th>\n",
       "      <td>87170.00</td>\n",
       "      <td>709813.9400</td>\n",
       "      <td>344850.6800</td>\n",
       "    </tr>\n",
       "    <tr>\n",
       "      <th>Fabrikam Trendsetter 1/3'' 8.5mm X200 Black</th>\n",
       "      <td>88911.00</td>\n",
       "      <td>799809.3900</td>\n",
       "      <td>507214.2300</td>\n",
       "    </tr>\n",
       "    <tr>\n",
       "      <th>Fabrikam Trendsetter 1/3'' 8.5mm X200 Grey</th>\n",
       "      <td>93812.00</td>\n",
       "      <td>781334.2000</td>\n",
       "      <td>501926.5000</td>\n",
       "    </tr>\n",
       "    <tr>\n",
       "      <th>Fabrikam Trendsetter 1/3'' 8.5mm X200 White</th>\n",
       "      <td>89820.00</td>\n",
       "      <td>714029.0800</td>\n",
       "      <td>453138.3400</td>\n",
       "    </tr>\n",
       "    <tr>\n",
       "      <th>Fabrikam Trendsetter 2/3'' 17mm X100 Black</th>\n",
       "      <td>100940.00</td>\n",
       "      <td>821396.8000</td>\n",
       "      <td>520733.8600</td>\n",
       "    </tr>\n",
       "    <tr>\n",
       "      <th>Fabrikam Trendsetter 2/3'' 17mm X100 Grey</th>\n",
       "      <td>115640.00</td>\n",
       "      <td>961037.0000</td>\n",
       "      <td>608098.9700</td>\n",
       "    </tr>\n",
       "    <tr>\n",
       "      <th>Headphone Adapter for Contoso Phone E130 Silver</th>\n",
       "      <td>869.13</td>\n",
       "      <td>226591.3818</td>\n",
       "      <td>98160.5018</td>\n",
       "    </tr>\n",
       "    <tr>\n",
       "      <th>Headphone Adapter for Contoso Phone E130 White</th>\n",
       "      <td>849.15</td>\n",
       "      <td>223805.1708</td>\n",
       "      <td>96514.4508</td>\n",
       "    </tr>\n",
       "  </tbody>\n",
       "</table>\n",
       "</div>"
      ],
      "text/plain": [
       "                                                 Preço Unitário  Valor Venda  \\\n",
       "Produto                                                                        \n",
       "Adventure Works Laptop15.4W M1548 Black                93234.00  746789.1800   \n",
       "Adventure Works Laptop15.4W M1548 Red                  87170.00  709813.9400   \n",
       "Fabrikam Trendsetter 1/3'' 8.5mm X200 Black            88911.00  799809.3900   \n",
       "Fabrikam Trendsetter 1/3'' 8.5mm X200 Grey             93812.00  781334.2000   \n",
       "Fabrikam Trendsetter 1/3'' 8.5mm X200 White            89820.00  714029.0800   \n",
       "Fabrikam Trendsetter 2/3'' 17mm X100 Black            100940.00  821396.8000   \n",
       "Fabrikam Trendsetter 2/3'' 17mm X100 Grey             115640.00  961037.0000   \n",
       "Headphone Adapter for Contoso Phone E130 Silver          869.13  226591.3818   \n",
       "Headphone Adapter for Contoso Phone E130 White           849.15  223805.1708   \n",
       "\n",
       "                                                 Lucro Venda  \n",
       "Produto                                                       \n",
       "Adventure Works Laptop15.4W M1548 Black          367185.5600  \n",
       "Adventure Works Laptop15.4W M1548 Red            344850.6800  \n",
       "Fabrikam Trendsetter 1/3'' 8.5mm X200 Black      507214.2300  \n",
       "Fabrikam Trendsetter 1/3'' 8.5mm X200 Grey       501926.5000  \n",
       "Fabrikam Trendsetter 1/3'' 8.5mm X200 White      453138.3400  \n",
       "Fabrikam Trendsetter 2/3'' 17mm X100 Black       520733.8600  \n",
       "Fabrikam Trendsetter 2/3'' 17mm X100 Grey        608098.9700  \n",
       "Headphone Adapter for Contoso Phone E130 Silver   98160.5018  \n",
       "Headphone Adapter for Contoso Phone E130 White    96514.4508  "
      ]
     },
     "execution_count": 55,
     "metadata": {},
     "output_type": "execute_result"
    }
   ],
   "source": [
    "df[informacoes].groupby('Produto').sum()"
   ]
  },
  {
   "cell_type": "code",
   "execution_count": 61,
   "id": "74ec8322",
   "metadata": {},
   "outputs": [],
   "source": [
    "import locale\n",
    "#Biblioteca de conversa de valores em moedas."
   ]
  },
  {
   "cell_type": "code",
   "execution_count": 60,
   "id": "ae1ced4e",
   "metadata": {},
   "outputs": [
    {
     "data": {
      "text/plain": [
       "'pt_BR.UTF-8'"
      ]
     },
     "execution_count": 60,
     "metadata": {},
     "output_type": "execute_result"
    }
   ],
   "source": [
    "locale.setlocale(locale.LC_MONETARY, 'pt_BR.UTF-8')\n",
    "#Para alterar a unidade monteria add ao final en_US"
   ]
  },
  {
   "cell_type": "code",
   "execution_count": 62,
   "id": "5df5ecd8",
   "metadata": {},
   "outputs": [],
   "source": [
    "total_custo_unitario = df['Custo Unitário'].sum()\n",
    "total_preco_unitario = df['Preço Unitário'].sum()\n",
    "total_valor_desc = df['Valor Desconto'].sum()\n",
    "total_valor_venda = df['Valor Venda'].sum()"
   ]
  },
  {
   "cell_type": "code",
   "execution_count": 63,
   "id": "ce203e79",
   "metadata": {
    "scrolled": true
   },
   "outputs": [
    {
     "ename": "NameError",
     "evalue": "name 'lcl' is not defined",
     "output_type": "error",
     "traceback": [
      "\u001b[1;31m---------------------------------------------------------------------------\u001b[0m",
      "\u001b[1;31mNameError\u001b[0m                                 Traceback (most recent call last)",
      "\u001b[1;32m~\\AppData\\Local\\Temp\\ipykernel_2192\\2439370799.py\u001b[0m in \u001b[0;36m<module>\u001b[1;34m\u001b[0m\n\u001b[1;32m----> 1\u001b[1;33m \u001b[0mprint\u001b[0m\u001b[1;33m(\u001b[0m\u001b[0mlcl\u001b[0m\u001b[1;33m.\u001b[0m\u001b[0mcurrency\u001b[0m\u001b[1;33m(\u001b[0m\u001b[0mtotal_custo_unitario\u001b[0m\u001b[1;33m)\u001b[0m\u001b[1;33m)\u001b[0m\u001b[1;33m\u001b[0m\u001b[1;33m\u001b[0m\u001b[0m\n\u001b[0m\u001b[0;32m      2\u001b[0m \u001b[0mprint\u001b[0m\u001b[1;33m(\u001b[0m\u001b[0mlcl\u001b[0m\u001b[1;33m.\u001b[0m\u001b[0mcurrency\u001b[0m\u001b[1;33m(\u001b[0m\u001b[0mtotal_preco_unitario\u001b[0m\u001b[1;33m)\u001b[0m\u001b[1;33m)\u001b[0m\u001b[1;33m\u001b[0m\u001b[1;33m\u001b[0m\u001b[0m\n\u001b[0;32m      3\u001b[0m \u001b[0mprint\u001b[0m\u001b[1;33m(\u001b[0m\u001b[0mlcl\u001b[0m\u001b[1;33m.\u001b[0m\u001b[0mcurrency\u001b[0m\u001b[1;33m(\u001b[0m\u001b[0mtotal_valor_desc\u001b[0m\u001b[1;33m)\u001b[0m\u001b[1;33m)\u001b[0m\u001b[1;33m\u001b[0m\u001b[1;33m\u001b[0m\u001b[0m\n\u001b[0;32m      4\u001b[0m \u001b[0mprint\u001b[0m\u001b[1;33m(\u001b[0m\u001b[0mlcl\u001b[0m\u001b[1;33m.\u001b[0m\u001b[0mcurrency\u001b[0m\u001b[1;33m(\u001b[0m\u001b[0mtotal_valor_venda\u001b[0m\u001b[1;33m)\u001b[0m\u001b[1;33m)\u001b[0m\u001b[1;33m\u001b[0m\u001b[1;33m\u001b[0m\u001b[0m\n",
      "\u001b[1;31mNameError\u001b[0m: name 'lcl' is not defined"
     ]
    }
   ],
   "source": [
    "print(lcl.currency(total_custo_unitario))\n",
    "print(lcl.currency(total_preco_unitario))\n",
    "print(lcl.currency(total_valor_desc))\n",
    "print(lcl.currency(total_valor_venda))"
   ]
  },
  {
   "cell_type": "code",
   "execution_count": null,
   "id": "0dbfe231",
   "metadata": {},
   "outputs": [],
   "source": [
    "df.to_excel('PlanilhaNova.xlsx')"
   ]
  },
  {
   "cell_type": "code",
   "execution_count": null,
   "id": "b7ced516",
   "metadata": {},
   "outputs": [],
   "source": [
    "x = [-20, -15, -10, -5, 0, 5, 10, 15, 20]\n",
    "y = []"
   ]
  },
  {
   "cell_type": "code",
   "execution_count": null,
   "id": "4dd209da",
   "metadata": {},
   "outputs": [],
   "source": [
    "for i in x:\n",
    "    y.append(i**2)\n",
    "print(y)"
   ]
  },
  {
   "cell_type": "code",
   "execution_count": null,
   "id": "7ca4723c",
   "metadata": {},
   "outputs": [],
   "source": [
    "plt.plot(x, y, 'b--')"
   ]
  },
  {
   "cell_type": "code",
   "execution_count": null,
   "id": "c6ce4f72",
   "metadata": {},
   "outputs": [],
   "source": [
    "import numpy as np"
   ]
  },
  {
   "cell_type": "code",
   "execution_count": 64,
   "id": "09a6d716",
   "metadata": {
    "collapsed": true
   },
   "outputs": [
    {
     "ename": "NameError",
     "evalue": "name 'np' is not defined",
     "output_type": "error",
     "traceback": [
      "\u001b[1;31m---------------------------------------------------------------------------\u001b[0m",
      "\u001b[1;31mNameError\u001b[0m                                 Traceback (most recent call last)",
      "\u001b[1;32m~\\AppData\\Local\\Temp\\ipykernel_2192\\4130616070.py\u001b[0m in \u001b[0;36m<module>\u001b[1;34m\u001b[0m\n\u001b[1;32m----> 1\u001b[1;33m \u001b[0mz\u001b[0m \u001b[1;33m=\u001b[0m \u001b[0mnp\u001b[0m\u001b[1;33m.\u001b[0m\u001b[0mlinspace\u001b[0m\u001b[1;33m(\u001b[0m\u001b[1;33m-\u001b[0m\u001b[1;36m20\u001b[0m\u001b[1;33m,\u001b[0m \u001b[1;36m20\u001b[0m\u001b[1;33m,\u001b[0m \u001b[1;36m1000\u001b[0m\u001b[1;33m)\u001b[0m\u001b[1;33m\u001b[0m\u001b[1;33m\u001b[0m\u001b[0m\n\u001b[0m\u001b[0;32m      2\u001b[0m \u001b[0mplt\u001b[0m\u001b[1;33m.\u001b[0m\u001b[0mplot\u001b[0m\u001b[1;33m(\u001b[0m\u001b[0mz\u001b[0m\u001b[1;33m,\u001b[0m \u001b[0mz\u001b[0m\u001b[1;33m**\u001b[0m\u001b[1;36m2\u001b[0m\u001b[1;33m,\u001b[0m \u001b[1;34m'r'\u001b[0m\u001b[1;33m)\u001b[0m\u001b[1;33m\u001b[0m\u001b[1;33m\u001b[0m\u001b[0m\n\u001b[0;32m      3\u001b[0m \u001b[0mplt\u001b[0m\u001b[1;33m.\u001b[0m\u001b[0msavefig\u001b[0m\u001b[1;33m(\u001b[0m\u001b[1;34m'grafico'\u001b[0m\u001b[1;33m,\u001b[0m \u001b[0mfacecolor\u001b[0m\u001b[1;33m=\u001b[0m\u001b[1;34m'auto'\u001b[0m\u001b[1;33m,\u001b[0m \u001b[0mpad_inches\u001b[0m\u001b[1;33m=\u001b[0m\u001b[1;36m0.1\u001b[0m\u001b[1;33m,\u001b[0m \u001b[0mtrasparent\u001b[0m \u001b[1;33m=\u001b[0m \u001b[1;32mTrue\u001b[0m\u001b[1;33m)\u001b[0m\u001b[1;33m\u001b[0m\u001b[1;33m\u001b[0m\u001b[0m\n\u001b[0;32m      4\u001b[0m \u001b[1;31m#Pode ser usado somente o plt.savefig(Nomedoarquivo.extensão)\u001b[0m\u001b[1;33m\u001b[0m\u001b[1;33m\u001b[0m\u001b[0m\n\u001b[0;32m      5\u001b[0m \u001b[0mplt\u001b[0m\u001b[1;33m.\u001b[0m\u001b[0mshow\u001b[0m\u001b[1;33m(\u001b[0m\u001b[1;33m)\u001b[0m\u001b[1;33m\u001b[0m\u001b[1;33m\u001b[0m\u001b[0m\n",
      "\u001b[1;31mNameError\u001b[0m: name 'np' is not defined"
     ]
    }
   ],
   "source": [
    "z = np.linspace(-20, 20, 1000)\n",
    "plt.plot(z, z**2, 'r')\n",
    "plt.savefig('grafico', facecolor='auto', pad_inches=0.1, trasparent = True)\n",
    "#Pode ser usado somente o plt.savefig(Nomedoarquivo.extensão)\n",
    "plt.show()"
   ]
  },
  {
   "cell_type": "code",
   "execution_count": 101,
   "id": "c55679dd",
   "metadata": {},
   "outputs": [],
   "source": [
    "newdf = pd.read_excel('PlanilhaNova.xlsx')"
   ]
  },
  {
   "cell_type": "code",
   "execution_count": 102,
   "id": "095358a7",
   "metadata": {
    "scrolled": true
   },
   "outputs": [
    {
     "data": {
      "text/html": [
       "<div>\n",
       "<style scoped>\n",
       "    .dataframe tbody tr th:only-of-type {\n",
       "        vertical-align: middle;\n",
       "    }\n",
       "\n",
       "    .dataframe tbody tr th {\n",
       "        vertical-align: top;\n",
       "    }\n",
       "\n",
       "    .dataframe thead th {\n",
       "        text-align: right;\n",
       "    }\n",
       "</style>\n",
       "<table border=\"1\" class=\"dataframe\">\n",
       "  <thead>\n",
       "    <tr style=\"text-align: right;\">\n",
       "      <th></th>\n",
       "      <th>Unnamed: 0</th>\n",
       "      <th>Data Venda</th>\n",
       "      <th>Data Envio</th>\n",
       "      <th>ID Loja</th>\n",
       "      <th>ID Produto</th>\n",
       "      <th>ID Cliente</th>\n",
       "      <th>No. Venda</th>\n",
       "      <th>Custo Unitário</th>\n",
       "      <th>Preço Unitário</th>\n",
       "      <th>Quantidade</th>\n",
       "      <th>...</th>\n",
       "      <th>Produto</th>\n",
       "      <th>Fabricante</th>\n",
       "      <th>Marca</th>\n",
       "      <th>Classe</th>\n",
       "      <th>Cor</th>\n",
       "      <th>Tempo de Postagem</th>\n",
       "      <th>Lucro Und</th>\n",
       "      <th>Custo Total</th>\n",
       "      <th>Lucro Venda</th>\n",
       "      <th>% Desconto</th>\n",
       "    </tr>\n",
       "  </thead>\n",
       "  <tbody>\n",
       "    <tr>\n",
       "      <th>0</th>\n",
       "      <td>0</td>\n",
       "      <td>2008-05-09</td>\n",
       "      <td>2008-05-29</td>\n",
       "      <td>199</td>\n",
       "      <td>384</td>\n",
       "      <td>18839</td>\n",
       "      <td>200805093CS607</td>\n",
       "      <td>348.58</td>\n",
       "      <td>758.0</td>\n",
       "      <td>6</td>\n",
       "      <td>...</td>\n",
       "      <td>Adventure Works Laptop15.4W M1548 Red</td>\n",
       "      <td>Adventure Works</td>\n",
       "      <td>Adventure Works</td>\n",
       "      <td>Regular</td>\n",
       "      <td>Red</td>\n",
       "      <td>20</td>\n",
       "      <td>409.42</td>\n",
       "      <td>2091.48</td>\n",
       "      <td>2456.52</td>\n",
       "      <td>0.0</td>\n",
       "    </tr>\n",
       "    <tr>\n",
       "      <th>1</th>\n",
       "      <td>1</td>\n",
       "      <td>2008-05-12</td>\n",
       "      <td>2008-05-17</td>\n",
       "      <td>306</td>\n",
       "      <td>384</td>\n",
       "      <td>19051</td>\n",
       "      <td>200805123CS567</td>\n",
       "      <td>348.58</td>\n",
       "      <td>758.0</td>\n",
       "      <td>6</td>\n",
       "      <td>...</td>\n",
       "      <td>Adventure Works Laptop15.4W M1548 Red</td>\n",
       "      <td>Adventure Works</td>\n",
       "      <td>Adventure Works</td>\n",
       "      <td>Regular</td>\n",
       "      <td>Red</td>\n",
       "      <td>5</td>\n",
       "      <td>409.42</td>\n",
       "      <td>2091.48</td>\n",
       "      <td>2456.52</td>\n",
       "      <td>0.0</td>\n",
       "    </tr>\n",
       "    <tr>\n",
       "      <th>2</th>\n",
       "      <td>2</td>\n",
       "      <td>2008-05-14</td>\n",
       "      <td>2008-05-20</td>\n",
       "      <td>306</td>\n",
       "      <td>384</td>\n",
       "      <td>19052</td>\n",
       "      <td>200805143CS576</td>\n",
       "      <td>348.58</td>\n",
       "      <td>758.0</td>\n",
       "      <td>6</td>\n",
       "      <td>...</td>\n",
       "      <td>Adventure Works Laptop15.4W M1548 Red</td>\n",
       "      <td>Adventure Works</td>\n",
       "      <td>Adventure Works</td>\n",
       "      <td>Regular</td>\n",
       "      <td>Red</td>\n",
       "      <td>6</td>\n",
       "      <td>409.42</td>\n",
       "      <td>2091.48</td>\n",
       "      <td>2456.52</td>\n",
       "      <td>0.0</td>\n",
       "    </tr>\n",
       "    <tr>\n",
       "      <th>3</th>\n",
       "      <td>3</td>\n",
       "      <td>2008-05-21</td>\n",
       "      <td>2008-05-27</td>\n",
       "      <td>306</td>\n",
       "      <td>384</td>\n",
       "      <td>19052</td>\n",
       "      <td>200805213CS576</td>\n",
       "      <td>348.58</td>\n",
       "      <td>758.0</td>\n",
       "      <td>6</td>\n",
       "      <td>...</td>\n",
       "      <td>Adventure Works Laptop15.4W M1548 Red</td>\n",
       "      <td>Adventure Works</td>\n",
       "      <td>Adventure Works</td>\n",
       "      <td>Regular</td>\n",
       "      <td>Red</td>\n",
       "      <td>6</td>\n",
       "      <td>409.42</td>\n",
       "      <td>2091.48</td>\n",
       "      <td>2456.52</td>\n",
       "      <td>0.0</td>\n",
       "    </tr>\n",
       "    <tr>\n",
       "      <th>4</th>\n",
       "      <td>4</td>\n",
       "      <td>2008-06-20</td>\n",
       "      <td>2008-06-27</td>\n",
       "      <td>306</td>\n",
       "      <td>384</td>\n",
       "      <td>19053</td>\n",
       "      <td>200806203CS586</td>\n",
       "      <td>348.58</td>\n",
       "      <td>758.0</td>\n",
       "      <td>6</td>\n",
       "      <td>...</td>\n",
       "      <td>Adventure Works Laptop15.4W M1548 Red</td>\n",
       "      <td>Adventure Works</td>\n",
       "      <td>Adventure Works</td>\n",
       "      <td>Regular</td>\n",
       "      <td>Red</td>\n",
       "      <td>7</td>\n",
       "      <td>409.42</td>\n",
       "      <td>2091.48</td>\n",
       "      <td>2456.52</td>\n",
       "      <td>0.0</td>\n",
       "    </tr>\n",
       "  </tbody>\n",
       "</table>\n",
       "<p>5 rows × 22 columns</p>\n",
       "</div>"
      ],
      "text/plain": [
       "   Unnamed: 0 Data Venda Data Envio  ID Loja  ID Produto  ID Cliente  \\\n",
       "0           0 2008-05-09 2008-05-29      199         384       18839   \n",
       "1           1 2008-05-12 2008-05-17      306         384       19051   \n",
       "2           2 2008-05-14 2008-05-20      306         384       19052   \n",
       "3           3 2008-05-21 2008-05-27      306         384       19052   \n",
       "4           4 2008-06-20 2008-06-27      306         384       19053   \n",
       "\n",
       "        No. Venda  Custo Unitário  Preço Unitário  Quantidade  ...  \\\n",
       "0  200805093CS607          348.58           758.0           6  ...   \n",
       "1  200805123CS567          348.58           758.0           6  ...   \n",
       "2  200805143CS576          348.58           758.0           6  ...   \n",
       "3  200805213CS576          348.58           758.0           6  ...   \n",
       "4  200806203CS586          348.58           758.0           6  ...   \n",
       "\n",
       "                                 Produto       Fabricante            Marca  \\\n",
       "0  Adventure Works Laptop15.4W M1548 Red  Adventure Works  Adventure Works   \n",
       "1  Adventure Works Laptop15.4W M1548 Red  Adventure Works  Adventure Works   \n",
       "2  Adventure Works Laptop15.4W M1548 Red  Adventure Works  Adventure Works   \n",
       "3  Adventure Works Laptop15.4W M1548 Red  Adventure Works  Adventure Works   \n",
       "4  Adventure Works Laptop15.4W M1548 Red  Adventure Works  Adventure Works   \n",
       "\n",
       "    Classe  Cor Tempo de Postagem Lucro Und  Custo Total  Lucro Venda  \\\n",
       "0  Regular  Red                20    409.42      2091.48      2456.52   \n",
       "1  Regular  Red                 5    409.42      2091.48      2456.52   \n",
       "2  Regular  Red                 6    409.42      2091.48      2456.52   \n",
       "3  Regular  Red                 6    409.42      2091.48      2456.52   \n",
       "4  Regular  Red                 7    409.42      2091.48      2456.52   \n",
       "\n",
       "   % Desconto  \n",
       "0         0.0  \n",
       "1         0.0  \n",
       "2         0.0  \n",
       "3         0.0  \n",
       "4         0.0  \n",
       "\n",
       "[5 rows x 22 columns]"
      ]
     },
     "execution_count": 102,
     "metadata": {},
     "output_type": "execute_result"
    }
   ],
   "source": [
    "newdf.head()"
   ]
  },
  {
   "cell_type": "code",
   "execution_count": 109,
   "id": "bbc05666",
   "metadata": {},
   "outputs": [
    {
     "data": {
      "text/plain": [
       "3497823.0926"
      ]
     },
     "execution_count": 109,
     "metadata": {},
     "output_type": "execute_result"
    }
   ],
   "source": [
    "newdf['Lucro Venda'].sum()"
   ]
  },
  {
   "cell_type": "code",
   "execution_count": 125,
   "id": "fa408324",
   "metadata": {},
   "outputs": [],
   "source": [
    "x1 = newdf['ID Loja'].count()"
   ]
  },
  {
   "cell_type": "code",
   "execution_count": 126,
   "id": "51e52a7a",
   "metadata": {
    "collapsed": true
   },
   "outputs": [
    {
     "data": {
      "text/html": [
       "<div>\n",
       "<style scoped>\n",
       "    .dataframe tbody tr th:only-of-type {\n",
       "        vertical-align: middle;\n",
       "    }\n",
       "\n",
       "    .dataframe tbody tr th {\n",
       "        vertical-align: top;\n",
       "    }\n",
       "\n",
       "    .dataframe thead th {\n",
       "        text-align: right;\n",
       "    }\n",
       "</style>\n",
       "<table border=\"1\" class=\"dataframe\">\n",
       "  <thead>\n",
       "    <tr style=\"text-align: right;\">\n",
       "      <th></th>\n",
       "      <th>Preço Unitário</th>\n",
       "      <th>Valor Venda</th>\n",
       "      <th>Lucro Venda</th>\n",
       "    </tr>\n",
       "    <tr>\n",
       "      <th>Produto</th>\n",
       "      <th></th>\n",
       "      <th></th>\n",
       "      <th></th>\n",
       "    </tr>\n",
       "  </thead>\n",
       "  <tbody>\n",
       "    <tr>\n",
       "      <th>Adventure Works Laptop15.4W M1548 Black</th>\n",
       "      <td>93234.00</td>\n",
       "      <td>746789.1800</td>\n",
       "      <td>367185.5600</td>\n",
       "    </tr>\n",
       "    <tr>\n",
       "      <th>Adventure Works Laptop15.4W M1548 Red</th>\n",
       "      <td>87170.00</td>\n",
       "      <td>709813.9400</td>\n",
       "      <td>344850.6800</td>\n",
       "    </tr>\n",
       "    <tr>\n",
       "      <th>Fabrikam Trendsetter 1/3'' 8.5mm X200 Black</th>\n",
       "      <td>88911.00</td>\n",
       "      <td>799809.3900</td>\n",
       "      <td>507214.2300</td>\n",
       "    </tr>\n",
       "    <tr>\n",
       "      <th>Fabrikam Trendsetter 1/3'' 8.5mm X200 Grey</th>\n",
       "      <td>93812.00</td>\n",
       "      <td>781334.2000</td>\n",
       "      <td>501926.5000</td>\n",
       "    </tr>\n",
       "    <tr>\n",
       "      <th>Fabrikam Trendsetter 1/3'' 8.5mm X200 White</th>\n",
       "      <td>89820.00</td>\n",
       "      <td>714029.0800</td>\n",
       "      <td>453138.3400</td>\n",
       "    </tr>\n",
       "    <tr>\n",
       "      <th>Fabrikam Trendsetter 2/3'' 17mm X100 Black</th>\n",
       "      <td>100940.00</td>\n",
       "      <td>821396.8000</td>\n",
       "      <td>520733.8600</td>\n",
       "    </tr>\n",
       "    <tr>\n",
       "      <th>Fabrikam Trendsetter 2/3'' 17mm X100 Grey</th>\n",
       "      <td>115640.00</td>\n",
       "      <td>961037.0000</td>\n",
       "      <td>608098.9700</td>\n",
       "    </tr>\n",
       "    <tr>\n",
       "      <th>Headphone Adapter for Contoso Phone E130 Silver</th>\n",
       "      <td>869.13</td>\n",
       "      <td>226591.3818</td>\n",
       "      <td>98160.5018</td>\n",
       "    </tr>\n",
       "    <tr>\n",
       "      <th>Headphone Adapter for Contoso Phone E130 White</th>\n",
       "      <td>849.15</td>\n",
       "      <td>223805.1708</td>\n",
       "      <td>96514.4508</td>\n",
       "    </tr>\n",
       "  </tbody>\n",
       "</table>\n",
       "</div>"
      ],
      "text/plain": [
       "                                                 Preço Unitário  Valor Venda  \\\n",
       "Produto                                                                        \n",
       "Adventure Works Laptop15.4W M1548 Black                93234.00  746789.1800   \n",
       "Adventure Works Laptop15.4W M1548 Red                  87170.00  709813.9400   \n",
       "Fabrikam Trendsetter 1/3'' 8.5mm X200 Black            88911.00  799809.3900   \n",
       "Fabrikam Trendsetter 1/3'' 8.5mm X200 Grey             93812.00  781334.2000   \n",
       "Fabrikam Trendsetter 1/3'' 8.5mm X200 White            89820.00  714029.0800   \n",
       "Fabrikam Trendsetter 2/3'' 17mm X100 Black            100940.00  821396.8000   \n",
       "Fabrikam Trendsetter 2/3'' 17mm X100 Grey             115640.00  961037.0000   \n",
       "Headphone Adapter for Contoso Phone E130 Silver          869.13  226591.3818   \n",
       "Headphone Adapter for Contoso Phone E130 White           849.15  223805.1708   \n",
       "\n",
       "                                                 Lucro Venda  \n",
       "Produto                                                       \n",
       "Adventure Works Laptop15.4W M1548 Black          367185.5600  \n",
       "Adventure Works Laptop15.4W M1548 Red            344850.6800  \n",
       "Fabrikam Trendsetter 1/3'' 8.5mm X200 Black      507214.2300  \n",
       "Fabrikam Trendsetter 1/3'' 8.5mm X200 Grey       501926.5000  \n",
       "Fabrikam Trendsetter 1/3'' 8.5mm X200 White      453138.3400  \n",
       "Fabrikam Trendsetter 2/3'' 17mm X100 Black       520733.8600  \n",
       "Fabrikam Trendsetter 2/3'' 17mm X100 Grey        608098.9700  \n",
       "Headphone Adapter for Contoso Phone E130 Silver   98160.5018  \n",
       "Headphone Adapter for Contoso Phone E130 White    96514.4508  "
      ]
     },
     "execution_count": 126,
     "metadata": {},
     "output_type": "execute_result"
    }
   ],
   "source": [
    "df[informacoes].groupby('Produto').sum()"
   ]
  },
  {
   "cell_type": "code",
   "execution_count": 127,
   "id": "4010f80d",
   "metadata": {
    "collapsed": true
   },
   "outputs": [
    {
     "data": {
      "text/html": [
       "<div>\n",
       "<style scoped>\n",
       "    .dataframe tbody tr th:only-of-type {\n",
       "        vertical-align: middle;\n",
       "    }\n",
       "\n",
       "    .dataframe tbody tr th {\n",
       "        vertical-align: top;\n",
       "    }\n",
       "\n",
       "    .dataframe thead th {\n",
       "        text-align: right;\n",
       "    }\n",
       "</style>\n",
       "<table border=\"1\" class=\"dataframe\">\n",
       "  <thead>\n",
       "    <tr style=\"text-align: right;\">\n",
       "      <th></th>\n",
       "      <th>Produto</th>\n",
       "      <th>Preço Unitário</th>\n",
       "      <th>Valor Venda</th>\n",
       "      <th>Lucro Venda</th>\n",
       "    </tr>\n",
       "  </thead>\n",
       "  <tbody>\n",
       "    <tr>\n",
       "      <th>0</th>\n",
       "      <td>Adventure Works Laptop15.4W M1548 Red</td>\n",
       "      <td>758.00</td>\n",
       "      <td>4548.00</td>\n",
       "      <td>2456.52</td>\n",
       "    </tr>\n",
       "    <tr>\n",
       "      <th>1</th>\n",
       "      <td>Adventure Works Laptop15.4W M1548 Red</td>\n",
       "      <td>758.00</td>\n",
       "      <td>4548.00</td>\n",
       "      <td>2456.52</td>\n",
       "    </tr>\n",
       "    <tr>\n",
       "      <th>2</th>\n",
       "      <td>Adventure Works Laptop15.4W M1548 Red</td>\n",
       "      <td>758.00</td>\n",
       "      <td>4548.00</td>\n",
       "      <td>2456.52</td>\n",
       "    </tr>\n",
       "    <tr>\n",
       "      <th>3</th>\n",
       "      <td>Adventure Works Laptop15.4W M1548 Red</td>\n",
       "      <td>758.00</td>\n",
       "      <td>4548.00</td>\n",
       "      <td>2456.52</td>\n",
       "    </tr>\n",
       "    <tr>\n",
       "      <th>4</th>\n",
       "      <td>Adventure Works Laptop15.4W M1548 Red</td>\n",
       "      <td>758.00</td>\n",
       "      <td>4548.00</td>\n",
       "      <td>2456.52</td>\n",
       "    </tr>\n",
       "    <tr>\n",
       "      <th>19</th>\n",
       "      <td>Fabrikam Trendsetter 1/3'' 8.5mm X200 White</td>\n",
       "      <td>998.00</td>\n",
       "      <td>5988.00</td>\n",
       "      <td>4004.04</td>\n",
       "    </tr>\n",
       "    <tr>\n",
       "      <th>20</th>\n",
       "      <td>Fabrikam Trendsetter 1/3'' 8.5mm X200 White</td>\n",
       "      <td>998.00</td>\n",
       "      <td>5988.00</td>\n",
       "      <td>4004.04</td>\n",
       "    </tr>\n",
       "    <tr>\n",
       "      <th>21</th>\n",
       "      <td>Fabrikam Trendsetter 1/3'' 8.5mm X200 White</td>\n",
       "      <td>998.00</td>\n",
       "      <td>5988.00</td>\n",
       "      <td>4004.04</td>\n",
       "    </tr>\n",
       "    <tr>\n",
       "      <th>22</th>\n",
       "      <td>Fabrikam Trendsetter 1/3'' 8.5mm X200 White</td>\n",
       "      <td>998.00</td>\n",
       "      <td>5988.00</td>\n",
       "      <td>4004.04</td>\n",
       "    </tr>\n",
       "    <tr>\n",
       "      <th>23</th>\n",
       "      <td>Fabrikam Trendsetter 1/3'' 8.5mm X200 White</td>\n",
       "      <td>998.00</td>\n",
       "      <td>5988.00</td>\n",
       "      <td>4004.04</td>\n",
       "    </tr>\n",
       "    <tr>\n",
       "      <th>42</th>\n",
       "      <td>Fabrikam Trendsetter 1/3'' 8.5mm X200 Grey</td>\n",
       "      <td>998.00</td>\n",
       "      <td>5988.00</td>\n",
       "      <td>4004.04</td>\n",
       "    </tr>\n",
       "    <tr>\n",
       "      <th>43</th>\n",
       "      <td>Fabrikam Trendsetter 2/3'' 17mm X100 Grey</td>\n",
       "      <td>980.00</td>\n",
       "      <td>5880.00</td>\n",
       "      <td>3931.86</td>\n",
       "    </tr>\n",
       "    <tr>\n",
       "      <th>44</th>\n",
       "      <td>Fabrikam Trendsetter 1/3'' 8.5mm X200 Grey</td>\n",
       "      <td>998.00</td>\n",
       "      <td>5988.00</td>\n",
       "      <td>4004.04</td>\n",
       "    </tr>\n",
       "    <tr>\n",
       "      <th>45</th>\n",
       "      <td>Fabrikam Trendsetter 2/3'' 17mm X100 Grey</td>\n",
       "      <td>980.00</td>\n",
       "      <td>5880.00</td>\n",
       "      <td>3931.86</td>\n",
       "    </tr>\n",
       "    <tr>\n",
       "      <th>46</th>\n",
       "      <td>Fabrikam Trendsetter 1/3'' 8.5mm X200 Grey</td>\n",
       "      <td>998.00</td>\n",
       "      <td>5988.00</td>\n",
       "      <td>4004.04</td>\n",
       "    </tr>\n",
       "    <tr>\n",
       "      <th>47</th>\n",
       "      <td>Fabrikam Trendsetter 2/3'' 17mm X100 Grey</td>\n",
       "      <td>980.00</td>\n",
       "      <td>5880.00</td>\n",
       "      <td>3931.86</td>\n",
       "    </tr>\n",
       "    <tr>\n",
       "      <th>48</th>\n",
       "      <td>Fabrikam Trendsetter 2/3'' 17mm X100 Grey</td>\n",
       "      <td>980.00</td>\n",
       "      <td>5880.00</td>\n",
       "      <td>3931.86</td>\n",
       "    </tr>\n",
       "    <tr>\n",
       "      <th>49</th>\n",
       "      <td>Fabrikam Trendsetter 1/3'' 8.5mm X200 Grey</td>\n",
       "      <td>998.00</td>\n",
       "      <td>5988.00</td>\n",
       "      <td>4004.04</td>\n",
       "    </tr>\n",
       "    <tr>\n",
       "      <th>50</th>\n",
       "      <td>Fabrikam Trendsetter 1/3'' 8.5mm X200 Grey</td>\n",
       "      <td>998.00</td>\n",
       "      <td>5988.00</td>\n",
       "      <td>4004.04</td>\n",
       "    </tr>\n",
       "    <tr>\n",
       "      <th>51</th>\n",
       "      <td>Fabrikam Trendsetter 2/3'' 17mm X100 Grey</td>\n",
       "      <td>980.00</td>\n",
       "      <td>5880.00</td>\n",
       "      <td>3931.86</td>\n",
       "    </tr>\n",
       "    <tr>\n",
       "      <th>88</th>\n",
       "      <td>Fabrikam Trendsetter 2/3'' 17mm X100 Black</td>\n",
       "      <td>980.00</td>\n",
       "      <td>5880.00</td>\n",
       "      <td>3931.86</td>\n",
       "    </tr>\n",
       "    <tr>\n",
       "      <th>89</th>\n",
       "      <td>Fabrikam Trendsetter 2/3'' 17mm X100 Black</td>\n",
       "      <td>980.00</td>\n",
       "      <td>5880.00</td>\n",
       "      <td>3931.86</td>\n",
       "    </tr>\n",
       "    <tr>\n",
       "      <th>90</th>\n",
       "      <td>Fabrikam Trendsetter 2/3'' 17mm X100 Black</td>\n",
       "      <td>980.00</td>\n",
       "      <td>5880.00</td>\n",
       "      <td>3931.86</td>\n",
       "    </tr>\n",
       "    <tr>\n",
       "      <th>91</th>\n",
       "      <td>Fabrikam Trendsetter 2/3'' 17mm X100 Black</td>\n",
       "      <td>980.00</td>\n",
       "      <td>5880.00</td>\n",
       "      <td>3931.86</td>\n",
       "    </tr>\n",
       "    <tr>\n",
       "      <th>92</th>\n",
       "      <td>Fabrikam Trendsetter 2/3'' 17mm X100 Black</td>\n",
       "      <td>980.00</td>\n",
       "      <td>5880.00</td>\n",
       "      <td>3931.86</td>\n",
       "    </tr>\n",
       "    <tr>\n",
       "      <th>93</th>\n",
       "      <td>Fabrikam Trendsetter 1/3'' 8.5mm X200 Black</td>\n",
       "      <td>999.00</td>\n",
       "      <td>5994.00</td>\n",
       "      <td>4008.06</td>\n",
       "    </tr>\n",
       "    <tr>\n",
       "      <th>94</th>\n",
       "      <td>Fabrikam Trendsetter 1/3'' 8.5mm X200 Black</td>\n",
       "      <td>999.00</td>\n",
       "      <td>5994.00</td>\n",
       "      <td>4008.06</td>\n",
       "    </tr>\n",
       "    <tr>\n",
       "      <th>95</th>\n",
       "      <td>Fabrikam Trendsetter 1/3'' 8.5mm X200 Black</td>\n",
       "      <td>999.00</td>\n",
       "      <td>5994.00</td>\n",
       "      <td>4008.06</td>\n",
       "    </tr>\n",
       "    <tr>\n",
       "      <th>98</th>\n",
       "      <td>Fabrikam Trendsetter 1/3'' 8.5mm X200 Black</td>\n",
       "      <td>999.00</td>\n",
       "      <td>5994.00</td>\n",
       "      <td>4008.06</td>\n",
       "    </tr>\n",
       "    <tr>\n",
       "      <th>99</th>\n",
       "      <td>Fabrikam Trendsetter 1/3'' 8.5mm X200 Black</td>\n",
       "      <td>999.00</td>\n",
       "      <td>5994.00</td>\n",
       "      <td>4008.06</td>\n",
       "    </tr>\n",
       "    <tr>\n",
       "      <th>131</th>\n",
       "      <td>Adventure Works Laptop15.4W M1548 Black</td>\n",
       "      <td>758.00</td>\n",
       "      <td>4548.00</td>\n",
       "      <td>2456.52</td>\n",
       "    </tr>\n",
       "    <tr>\n",
       "      <th>132</th>\n",
       "      <td>Adventure Works Laptop15.4W M1548 Black</td>\n",
       "      <td>758.00</td>\n",
       "      <td>4548.00</td>\n",
       "      <td>2456.52</td>\n",
       "    </tr>\n",
       "    <tr>\n",
       "      <th>133</th>\n",
       "      <td>Adventure Works Laptop15.4W M1548 Black</td>\n",
       "      <td>758.00</td>\n",
       "      <td>4548.00</td>\n",
       "      <td>2456.52</td>\n",
       "    </tr>\n",
       "    <tr>\n",
       "      <th>134</th>\n",
       "      <td>Adventure Works Laptop15.4W M1548 Black</td>\n",
       "      <td>758.00</td>\n",
       "      <td>4548.00</td>\n",
       "      <td>2456.52</td>\n",
       "    </tr>\n",
       "    <tr>\n",
       "      <th>135</th>\n",
       "      <td>Adventure Works Laptop15.4W M1548 Black</td>\n",
       "      <td>758.00</td>\n",
       "      <td>4548.00</td>\n",
       "      <td>2456.52</td>\n",
       "    </tr>\n",
       "    <tr>\n",
       "      <th>246</th>\n",
       "      <td>Headphone Adapter for Contoso Phone E130 Silver</td>\n",
       "      <td>9.99</td>\n",
       "      <td>2397.60</td>\n",
       "      <td>1176.00</td>\n",
       "    </tr>\n",
       "    <tr>\n",
       "      <th>247</th>\n",
       "      <td>Headphone Adapter for Contoso Phone E130 Silver</td>\n",
       "      <td>9.99</td>\n",
       "      <td>2397.60</td>\n",
       "      <td>1176.00</td>\n",
       "    </tr>\n",
       "    <tr>\n",
       "      <th>248</th>\n",
       "      <td>Headphone Adapter for Contoso Phone E130 Silver</td>\n",
       "      <td>9.99</td>\n",
       "      <td>1198.80</td>\n",
       "      <td>588.00</td>\n",
       "    </tr>\n",
       "    <tr>\n",
       "      <th>249</th>\n",
       "      <td>Headphone Adapter for Contoso Phone E130 Silver</td>\n",
       "      <td>9.99</td>\n",
       "      <td>2397.60</td>\n",
       "      <td>1176.00</td>\n",
       "    </tr>\n",
       "    <tr>\n",
       "      <th>250</th>\n",
       "      <td>Headphone Adapter for Contoso Phone E130 Silver</td>\n",
       "      <td>9.99</td>\n",
       "      <td>2397.60</td>\n",
       "      <td>1176.00</td>\n",
       "    </tr>\n",
       "    <tr>\n",
       "      <th>276</th>\n",
       "      <td>Headphone Adapter for Contoso Phone E130 White</td>\n",
       "      <td>9.99</td>\n",
       "      <td>1198.80</td>\n",
       "      <td>588.00</td>\n",
       "    </tr>\n",
       "    <tr>\n",
       "      <th>277</th>\n",
       "      <td>Headphone Adapter for Contoso Phone E130 White</td>\n",
       "      <td>9.99</td>\n",
       "      <td>1198.80</td>\n",
       "      <td>588.00</td>\n",
       "    </tr>\n",
       "    <tr>\n",
       "      <th>278</th>\n",
       "      <td>Headphone Adapter for Contoso Phone E130 White</td>\n",
       "      <td>9.99</td>\n",
       "      <td>1198.80</td>\n",
       "      <td>588.00</td>\n",
       "    </tr>\n",
       "    <tr>\n",
       "      <th>279</th>\n",
       "      <td>Headphone Adapter for Contoso Phone E130 White</td>\n",
       "      <td>9.99</td>\n",
       "      <td>2877.12</td>\n",
       "      <td>1411.20</td>\n",
       "    </tr>\n",
       "    <tr>\n",
       "      <th>280</th>\n",
       "      <td>Headphone Adapter for Contoso Phone E130 White</td>\n",
       "      <td>9.99</td>\n",
       "      <td>11508.48</td>\n",
       "      <td>5644.80</td>\n",
       "    </tr>\n",
       "  </tbody>\n",
       "</table>\n",
       "</div>"
      ],
      "text/plain": [
       "                                             Produto  Preço Unitário  \\\n",
       "0              Adventure Works Laptop15.4W M1548 Red          758.00   \n",
       "1              Adventure Works Laptop15.4W M1548 Red          758.00   \n",
       "2              Adventure Works Laptop15.4W M1548 Red          758.00   \n",
       "3              Adventure Works Laptop15.4W M1548 Red          758.00   \n",
       "4              Adventure Works Laptop15.4W M1548 Red          758.00   \n",
       "19       Fabrikam Trendsetter 1/3'' 8.5mm X200 White          998.00   \n",
       "20       Fabrikam Trendsetter 1/3'' 8.5mm X200 White          998.00   \n",
       "21       Fabrikam Trendsetter 1/3'' 8.5mm X200 White          998.00   \n",
       "22       Fabrikam Trendsetter 1/3'' 8.5mm X200 White          998.00   \n",
       "23       Fabrikam Trendsetter 1/3'' 8.5mm X200 White          998.00   \n",
       "42        Fabrikam Trendsetter 1/3'' 8.5mm X200 Grey          998.00   \n",
       "43         Fabrikam Trendsetter 2/3'' 17mm X100 Grey          980.00   \n",
       "44        Fabrikam Trendsetter 1/3'' 8.5mm X200 Grey          998.00   \n",
       "45         Fabrikam Trendsetter 2/3'' 17mm X100 Grey          980.00   \n",
       "46        Fabrikam Trendsetter 1/3'' 8.5mm X200 Grey          998.00   \n",
       "47         Fabrikam Trendsetter 2/3'' 17mm X100 Grey          980.00   \n",
       "48         Fabrikam Trendsetter 2/3'' 17mm X100 Grey          980.00   \n",
       "49        Fabrikam Trendsetter 1/3'' 8.5mm X200 Grey          998.00   \n",
       "50        Fabrikam Trendsetter 1/3'' 8.5mm X200 Grey          998.00   \n",
       "51         Fabrikam Trendsetter 2/3'' 17mm X100 Grey          980.00   \n",
       "88        Fabrikam Trendsetter 2/3'' 17mm X100 Black          980.00   \n",
       "89        Fabrikam Trendsetter 2/3'' 17mm X100 Black          980.00   \n",
       "90        Fabrikam Trendsetter 2/3'' 17mm X100 Black          980.00   \n",
       "91        Fabrikam Trendsetter 2/3'' 17mm X100 Black          980.00   \n",
       "92        Fabrikam Trendsetter 2/3'' 17mm X100 Black          980.00   \n",
       "93       Fabrikam Trendsetter 1/3'' 8.5mm X200 Black          999.00   \n",
       "94       Fabrikam Trendsetter 1/3'' 8.5mm X200 Black          999.00   \n",
       "95       Fabrikam Trendsetter 1/3'' 8.5mm X200 Black          999.00   \n",
       "98       Fabrikam Trendsetter 1/3'' 8.5mm X200 Black          999.00   \n",
       "99       Fabrikam Trendsetter 1/3'' 8.5mm X200 Black          999.00   \n",
       "131          Adventure Works Laptop15.4W M1548 Black          758.00   \n",
       "132          Adventure Works Laptop15.4W M1548 Black          758.00   \n",
       "133          Adventure Works Laptop15.4W M1548 Black          758.00   \n",
       "134          Adventure Works Laptop15.4W M1548 Black          758.00   \n",
       "135          Adventure Works Laptop15.4W M1548 Black          758.00   \n",
       "246  Headphone Adapter for Contoso Phone E130 Silver            9.99   \n",
       "247  Headphone Adapter for Contoso Phone E130 Silver            9.99   \n",
       "248  Headphone Adapter for Contoso Phone E130 Silver            9.99   \n",
       "249  Headphone Adapter for Contoso Phone E130 Silver            9.99   \n",
       "250  Headphone Adapter for Contoso Phone E130 Silver            9.99   \n",
       "276   Headphone Adapter for Contoso Phone E130 White            9.99   \n",
       "277   Headphone Adapter for Contoso Phone E130 White            9.99   \n",
       "278   Headphone Adapter for Contoso Phone E130 White            9.99   \n",
       "279   Headphone Adapter for Contoso Phone E130 White            9.99   \n",
       "280   Headphone Adapter for Contoso Phone E130 White            9.99   \n",
       "\n",
       "     Valor Venda  Lucro Venda  \n",
       "0        4548.00      2456.52  \n",
       "1        4548.00      2456.52  \n",
       "2        4548.00      2456.52  \n",
       "3        4548.00      2456.52  \n",
       "4        4548.00      2456.52  \n",
       "19       5988.00      4004.04  \n",
       "20       5988.00      4004.04  \n",
       "21       5988.00      4004.04  \n",
       "22       5988.00      4004.04  \n",
       "23       5988.00      4004.04  \n",
       "42       5988.00      4004.04  \n",
       "43       5880.00      3931.86  \n",
       "44       5988.00      4004.04  \n",
       "45       5880.00      3931.86  \n",
       "46       5988.00      4004.04  \n",
       "47       5880.00      3931.86  \n",
       "48       5880.00      3931.86  \n",
       "49       5988.00      4004.04  \n",
       "50       5988.00      4004.04  \n",
       "51       5880.00      3931.86  \n",
       "88       5880.00      3931.86  \n",
       "89       5880.00      3931.86  \n",
       "90       5880.00      3931.86  \n",
       "91       5880.00      3931.86  \n",
       "92       5880.00      3931.86  \n",
       "93       5994.00      4008.06  \n",
       "94       5994.00      4008.06  \n",
       "95       5994.00      4008.06  \n",
       "98       5994.00      4008.06  \n",
       "99       5994.00      4008.06  \n",
       "131      4548.00      2456.52  \n",
       "132      4548.00      2456.52  \n",
       "133      4548.00      2456.52  \n",
       "134      4548.00      2456.52  \n",
       "135      4548.00      2456.52  \n",
       "246      2397.60      1176.00  \n",
       "247      2397.60      1176.00  \n",
       "248      1198.80       588.00  \n",
       "249      2397.60      1176.00  \n",
       "250      2397.60      1176.00  \n",
       "276      1198.80       588.00  \n",
       "277      1198.80       588.00  \n",
       "278      1198.80       588.00  \n",
       "279      2877.12      1411.20  \n",
       "280     11508.48      5644.80  "
      ]
     },
     "execution_count": 127,
     "metadata": {},
     "output_type": "execute_result"
    }
   ],
   "source": [
    "df[informacoes].groupby('Produto').head()"
   ]
  },
  {
   "cell_type": "code",
   "execution_count": 124,
   "id": "fe040b7c",
   "metadata": {
    "collapsed": true
   },
   "outputs": [
    {
     "ename": "NameError",
     "evalue": "name 'name' is not defined",
     "output_type": "error",
     "traceback": [
      "\u001b[1;31m---------------------------------------------------------------------------\u001b[0m",
      "\u001b[1;31mNameError\u001b[0m                                 Traceback (most recent call last)",
      "\u001b[1;32m~\\AppData\\Local\\Temp\\ipykernel_2192\\1143202709.py\u001b[0m in \u001b[0;36m<module>\u001b[1;34m\u001b[0m\n\u001b[0;32m      3\u001b[0m \u001b[1;33m\u001b[0m\u001b[0m\n\u001b[0;32m      4\u001b[0m \u001b[1;31m# Horizontal Bar Plot\u001b[0m\u001b[1;33m\u001b[0m\u001b[1;33m\u001b[0m\u001b[0m\n\u001b[1;32m----> 5\u001b[1;33m \u001b[0mplt\u001b[0m\u001b[1;33m.\u001b[0m\u001b[0mbar\u001b[0m\u001b[1;33m(\u001b[0m\u001b[0mname\u001b[0m\u001b[1;33m[\u001b[0m\u001b[1;36m0\u001b[0m\u001b[1;33m:\u001b[0m\u001b[1;36m10\u001b[0m\u001b[1;33m]\u001b[0m\u001b[1;33m,\u001b[0m \u001b[0mprice\u001b[0m\u001b[1;33m[\u001b[0m\u001b[1;36m0\u001b[0m\u001b[1;33m:\u001b[0m\u001b[1;36m10\u001b[0m\u001b[1;33m]\u001b[0m\u001b[1;33m)\u001b[0m\u001b[1;33m\u001b[0m\u001b[1;33m\u001b[0m\u001b[0m\n\u001b[0m\u001b[0;32m      6\u001b[0m \u001b[1;33m\u001b[0m\u001b[0m\n\u001b[0;32m      7\u001b[0m \u001b[1;31m# Show Plot\u001b[0m\u001b[1;33m\u001b[0m\u001b[1;33m\u001b[0m\u001b[0m\n",
      "\u001b[1;31mNameError\u001b[0m: name 'name' is not defined"
     ]
    },
    {
     "data": {
      "text/plain": [
       "<Figure size 1000x700 with 0 Axes>"
      ]
     },
     "metadata": {},
     "output_type": "display_data"
    }
   ],
   "source": [
    "import schedule\n",
    "import time\n",
    "\n",
    "def job():\n",
    "    print(\"I'm working...\")\n",
    "\n",
    "schedule.every(10).minutes.do(job)\n",
    "schedule.every().hour.do(job)\n",
    "schedule.every().day.at(\"10:30\").do(job)\n",
    "schedule.every().monday.do(job)\n",
    "schedule.every().wednesday.at(\"13:15\").do(job)\n",
    "\n",
    "while True:\n",
    "    schedule.run_pending()\n",
    "    time.sleep(1)"
   ]
  }
 ],
 "metadata": {
  "kernelspec": {
   "display_name": "Python 3 (ipykernel)",
   "language": "python",
   "name": "python3"
  },
  "language_info": {
   "codemirror_mode": {
    "name": "ipython",
    "version": 3
   },
   "file_extension": ".py",
   "mimetype": "text/x-python",
   "name": "python",
   "nbconvert_exporter": "python",
   "pygments_lexer": "ipython3",
   "version": "3.9.13"
  }
 },
 "nbformat": 4,
 "nbformat_minor": 5
}
